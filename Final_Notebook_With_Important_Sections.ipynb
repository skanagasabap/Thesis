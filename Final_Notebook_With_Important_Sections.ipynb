{
  "nbformat": 4,
  "nbformat_minor": 0,
  "metadata": {
    "colab": {
      "name": "Final_Notebook_With_Important_Sections.ipynb",
      "provenance": [],
      "collapsed_sections": [
        "iXIBVGfWM2yC",
        "SBe0OxkPOJDJ",
        "JoFPbz-aPD4y",
        "cpgElETlPkK8"
      ],
      "authorship_tag": "ABX9TyMtacr1X+qoYxyZaRIPTtPl",
      "include_colab_link": true
    },
    "kernelspec": {
      "name": "python3",
      "display_name": "Python 3"
    },
    "accelerator": "GPU"
  },
  "cells": [
    {
      "cell_type": "markdown",
      "metadata": {
        "id": "view-in-github",
        "colab_type": "text"
      },
      "source": [
        "<a href=\"https://colab.research.google.com/github/skanagasabap/Thesis/blob/main/Final_Notebook_With_Important_Sections.ipynb\" target=\"_parent\"><img src=\"https://colab.research.google.com/assets/colab-badge.svg\" alt=\"Open In Colab\"/></a>"
      ]
    },
    {
      "cell_type": "markdown",
      "metadata": {
        "id": "FKGqs433Dn6H"
      },
      "source": [
        "# This notebook walks through the important sections covered as part of the research thesis - \"**Comparative study of Resource Allocation using Reinforcement Learning and AWS Application Load Balancer for web applications**\""
      ]
    },
    {
      "cell_type": "markdown",
      "metadata": {
        "id": "aTlGNCXxEUPk"
      },
      "source": [
        "**Research Objectives:**\r\n",
        "\r\n",
        "\r\n",
        "*   To analyze the performance of round-robin and least outstanding requests algorithm for varying workloads in AWS Application Load Balancer\r\n",
        "*   To develop an algorithm to distribute requests based on the workload and operating environment characteristic to registered targets in AWS Application Load Balancer\r\n",
        "*   To assess the performance of developed algorithm with available round-robin and least outstanding algorithms\r\n",
        "\r\n",
        "\r\n",
        "\r\n",
        "\r\n",
        "\r\n"
      ]
    },
    {
      "cell_type": "markdown",
      "metadata": {
        "id": "8d91BUAIFmVq"
      },
      "source": [
        "## Importing python libraries for this research analysis"
      ]
    },
    {
      "cell_type": "markdown",
      "metadata": {
        "id": "x5ABL_DXG1bX"
      },
      "source": [
        "Installing TensorFlow Agents for Reinforcement Learning"
      ]
    },
    {
      "cell_type": "code",
      "metadata": {
        "id": "QQ3xLpQ8FiSY",
        "colab": {
          "base_uri": "https://localhost:8080/"
        },
        "outputId": "ec5158bd-a92c-41c0-e64e-2e0a0626a048"
      },
      "source": [
        "pip install -q tf-agents"
      ],
      "execution_count": 2,
      "outputs": [
        {
          "output_type": "stream",
          "text": [
            "\u001b[?25l\r\u001b[K     |▎                               | 10kB 22.4MB/s eta 0:00:01\r\u001b[K     |▌                               | 20kB 19.6MB/s eta 0:00:01\r\u001b[K     |▉                               | 30kB 14.5MB/s eta 0:00:01\r\u001b[K     |█                               | 40kB 13.5MB/s eta 0:00:01\r\u001b[K     |█▍                              | 51kB 9.0MB/s eta 0:00:01\r\u001b[K     |█▋                              | 61kB 9.6MB/s eta 0:00:01\r\u001b[K     |██                              | 71kB 9.4MB/s eta 0:00:01\r\u001b[K     |██▏                             | 81kB 9.7MB/s eta 0:00:01\r\u001b[K     |██▍                             | 92kB 9.9MB/s eta 0:00:01\r\u001b[K     |██▊                             | 102kB 8.6MB/s eta 0:00:01\r\u001b[K     |███                             | 112kB 8.6MB/s eta 0:00:01\r\u001b[K     |███▎                            | 122kB 8.6MB/s eta 0:00:01\r\u001b[K     |███▌                            | 133kB 8.6MB/s eta 0:00:01\r\u001b[K     |███▉                            | 143kB 8.6MB/s eta 0:00:01\r\u001b[K     |████                            | 153kB 8.6MB/s eta 0:00:01\r\u001b[K     |████▎                           | 163kB 8.6MB/s eta 0:00:01\r\u001b[K     |████▋                           | 174kB 8.6MB/s eta 0:00:01\r\u001b[K     |████▉                           | 184kB 8.6MB/s eta 0:00:01\r\u001b[K     |█████▏                          | 194kB 8.6MB/s eta 0:00:01\r\u001b[K     |█████▍                          | 204kB 8.6MB/s eta 0:00:01\r\u001b[K     |█████▊                          | 215kB 8.6MB/s eta 0:00:01\r\u001b[K     |██████                          | 225kB 8.6MB/s eta 0:00:01\r\u001b[K     |██████▏                         | 235kB 8.6MB/s eta 0:00:01\r\u001b[K     |██████▌                         | 245kB 8.6MB/s eta 0:00:01\r\u001b[K     |██████▊                         | 256kB 8.6MB/s eta 0:00:01\r\u001b[K     |███████                         | 266kB 8.6MB/s eta 0:00:01\r\u001b[K     |███████▎                        | 276kB 8.6MB/s eta 0:00:01\r\u001b[K     |███████▋                        | 286kB 8.6MB/s eta 0:00:01\r\u001b[K     |███████▉                        | 296kB 8.6MB/s eta 0:00:01\r\u001b[K     |████████                        | 307kB 8.6MB/s eta 0:00:01\r\u001b[K     |████████▍                       | 317kB 8.6MB/s eta 0:00:01\r\u001b[K     |████████▋                       | 327kB 8.6MB/s eta 0:00:01\r\u001b[K     |█████████                       | 337kB 8.6MB/s eta 0:00:01\r\u001b[K     |█████████▏                      | 348kB 8.6MB/s eta 0:00:01\r\u001b[K     |█████████▌                      | 358kB 8.6MB/s eta 0:00:01\r\u001b[K     |█████████▊                      | 368kB 8.6MB/s eta 0:00:01\r\u001b[K     |██████████                      | 378kB 8.6MB/s eta 0:00:01\r\u001b[K     |██████████▎                     | 389kB 8.6MB/s eta 0:00:01\r\u001b[K     |██████████▌                     | 399kB 8.6MB/s eta 0:00:01\r\u001b[K     |██████████▉                     | 409kB 8.6MB/s eta 0:00:01\r\u001b[K     |███████████                     | 419kB 8.6MB/s eta 0:00:01\r\u001b[K     |███████████▍                    | 430kB 8.6MB/s eta 0:00:01\r\u001b[K     |███████████▋                    | 440kB 8.6MB/s eta 0:00:01\r\u001b[K     |███████████▉                    | 450kB 8.6MB/s eta 0:00:01\r\u001b[K     |████████████▏                   | 460kB 8.6MB/s eta 0:00:01\r\u001b[K     |████████████▍                   | 471kB 8.6MB/s eta 0:00:01\r\u001b[K     |████████████▊                   | 481kB 8.6MB/s eta 0:00:01\r\u001b[K     |█████████████                   | 491kB 8.6MB/s eta 0:00:01\r\u001b[K     |█████████████▎                  | 501kB 8.6MB/s eta 0:00:01\r\u001b[K     |█████████████▌                  | 512kB 8.6MB/s eta 0:00:01\r\u001b[K     |█████████████▊                  | 522kB 8.6MB/s eta 0:00:01\r\u001b[K     |██████████████                  | 532kB 8.6MB/s eta 0:00:01\r\u001b[K     |██████████████▎                 | 542kB 8.6MB/s eta 0:00:01\r\u001b[K     |██████████████▋                 | 552kB 8.6MB/s eta 0:00:01\r\u001b[K     |██████████████▉                 | 563kB 8.6MB/s eta 0:00:01\r\u001b[K     |███████████████▏                | 573kB 8.6MB/s eta 0:00:01\r\u001b[K     |███████████████▍                | 583kB 8.6MB/s eta 0:00:01\r\u001b[K     |███████████████▋                | 593kB 8.6MB/s eta 0:00:01\r\u001b[K     |████████████████                | 604kB 8.6MB/s eta 0:00:01\r\u001b[K     |████████████████▏               | 614kB 8.6MB/s eta 0:00:01\r\u001b[K     |████████████████▌               | 624kB 8.6MB/s eta 0:00:01\r\u001b[K     |████████████████▊               | 634kB 8.6MB/s eta 0:00:01\r\u001b[K     |█████████████████               | 645kB 8.6MB/s eta 0:00:01\r\u001b[K     |█████████████████▎              | 655kB 8.6MB/s eta 0:00:01\r\u001b[K     |█████████████████▌              | 665kB 8.6MB/s eta 0:00:01\r\u001b[K     |█████████████████▉              | 675kB 8.6MB/s eta 0:00:01\r\u001b[K     |██████████████████              | 686kB 8.6MB/s eta 0:00:01\r\u001b[K     |██████████████████▍             | 696kB 8.6MB/s eta 0:00:01\r\u001b[K     |██████████████████▋             | 706kB 8.6MB/s eta 0:00:01\r\u001b[K     |███████████████████             | 716kB 8.6MB/s eta 0:00:01\r\u001b[K     |███████████████████▏            | 727kB 8.6MB/s eta 0:00:01\r\u001b[K     |███████████████████▌            | 737kB 8.6MB/s eta 0:00:01\r\u001b[K     |███████████████████▊            | 747kB 8.6MB/s eta 0:00:01\r\u001b[K     |████████████████████            | 757kB 8.6MB/s eta 0:00:01\r\u001b[K     |████████████████████▎           | 768kB 8.6MB/s eta 0:00:01\r\u001b[K     |████████████████████▌           | 778kB 8.6MB/s eta 0:00:01\r\u001b[K     |████████████████████▉           | 788kB 8.6MB/s eta 0:00:01\r\u001b[K     |█████████████████████           | 798kB 8.6MB/s eta 0:00:01\r\u001b[K     |█████████████████████▍          | 808kB 8.6MB/s eta 0:00:01\r\u001b[K     |█████████████████████▋          | 819kB 8.6MB/s eta 0:00:01\r\u001b[K     |█████████████████████▉          | 829kB 8.6MB/s eta 0:00:01\r\u001b[K     |██████████████████████▏         | 839kB 8.6MB/s eta 0:00:01\r\u001b[K     |██████████████████████▍         | 849kB 8.6MB/s eta 0:00:01\r\u001b[K     |██████████████████████▊         | 860kB 8.6MB/s eta 0:00:01\r\u001b[K     |███████████████████████         | 870kB 8.6MB/s eta 0:00:01\r\u001b[K     |███████████████████████▎        | 880kB 8.6MB/s eta 0:00:01\r\u001b[K     |███████████████████████▌        | 890kB 8.6MB/s eta 0:00:01\r\u001b[K     |███████████████████████▊        | 901kB 8.6MB/s eta 0:00:01\r\u001b[K     |████████████████████████        | 911kB 8.6MB/s eta 0:00:01\r\u001b[K     |████████████████████████▎       | 921kB 8.6MB/s eta 0:00:01\r\u001b[K     |████████████████████████▋       | 931kB 8.6MB/s eta 0:00:01\r\u001b[K     |████████████████████████▉       | 942kB 8.6MB/s eta 0:00:01\r\u001b[K     |█████████████████████████▏      | 952kB 8.6MB/s eta 0:00:01\r\u001b[K     |█████████████████████████▍      | 962kB 8.6MB/s eta 0:00:01\r\u001b[K     |█████████████████████████▋      | 972kB 8.6MB/s eta 0:00:01\r\u001b[K     |██████████████████████████      | 983kB 8.6MB/s eta 0:00:01\r\u001b[K     |██████████████████████████▏     | 993kB 8.6MB/s eta 0:00:01\r\u001b[K     |██████████████████████████▌     | 1.0MB 8.6MB/s eta 0:00:01\r\u001b[K     |██████████████████████████▊     | 1.0MB 8.6MB/s eta 0:00:01\r\u001b[K     |███████████████████████████     | 1.0MB 8.6MB/s eta 0:00:01\r\u001b[K     |███████████████████████████▎    | 1.0MB 8.6MB/s eta 0:00:01\r\u001b[K     |███████████████████████████▌    | 1.0MB 8.6MB/s eta 0:00:01\r\u001b[K     |███████████████████████████▉    | 1.1MB 8.6MB/s eta 0:00:01\r\u001b[K     |████████████████████████████    | 1.1MB 8.6MB/s eta 0:00:01\r\u001b[K     |████████████████████████████▍   | 1.1MB 8.6MB/s eta 0:00:01\r\u001b[K     |████████████████████████████▋   | 1.1MB 8.6MB/s eta 0:00:01\r\u001b[K     |█████████████████████████████   | 1.1MB 8.6MB/s eta 0:00:01\r\u001b[K     |█████████████████████████████▏  | 1.1MB 8.6MB/s eta 0:00:01\r\u001b[K     |█████████████████████████████▍  | 1.1MB 8.6MB/s eta 0:00:01\r\u001b[K     |█████████████████████████████▊  | 1.1MB 8.6MB/s eta 0:00:01\r\u001b[K     |██████████████████████████████  | 1.1MB 8.6MB/s eta 0:00:01\r\u001b[K     |██████████████████████████████▎ | 1.1MB 8.6MB/s eta 0:00:01\r\u001b[K     |██████████████████████████████▌ | 1.2MB 8.6MB/s eta 0:00:01\r\u001b[K     |██████████████████████████████▉ | 1.2MB 8.6MB/s eta 0:00:01\r\u001b[K     |███████████████████████████████ | 1.2MB 8.6MB/s eta 0:00:01\r\u001b[K     |███████████████████████████████▎| 1.2MB 8.6MB/s eta 0:00:01\r\u001b[K     |███████████████████████████████▋| 1.2MB 8.6MB/s eta 0:00:01\r\u001b[K     |███████████████████████████████▉| 1.2MB 8.6MB/s eta 0:00:01\r\u001b[K     |████████████████████████████████| 1.2MB 8.6MB/s \n",
            "\u001b[?25h"
          ],
          "name": "stdout"
        }
      ]
    },
    {
      "cell_type": "code",
      "metadata": {
        "id": "9rqWyzO-F0G5"
      },
      "source": [
        "#  importing libraries\r\n",
        "\r\n",
        "import abc\r\n",
        "import tensorflow as tf\r\n",
        "import numpy as np\r\n",
        "import matplotlib.pyplot as plt\r\n",
        "import pandas as pd\r\n",
        "import re\r\n",
        "import json\r\n",
        "pd.set_option('display.max_colwidth', None)\r\n",
        "import glob\r\n",
        "import pytz\r\n",
        "%matplotlib inline\r\n",
        "import matplotlib.pyplot as plt\r\n",
        "plt.style.use('seaborn-white')\r\n",
        "import random\r\n",
        "\r\n",
        "\r\n",
        "from tf_agents.environments import py_environment\r\n",
        "from tf_agents.environments import tf_environment\r\n",
        "from tf_agents.environments import tf_py_environment\r\n",
        "from tf_agents.environments import utils\r\n",
        "from tf_agents.specs import array_spec\r\n",
        "#from tf_agents.environments import time_step as ts\r\n",
        "from tf_agents.trajectories import time_step as ts\r\n",
        "from tf_agents.environments import wrappers\r\n",
        "\r\n",
        "tf.compat.v1.enable_v2_behavior()\r\n",
        "\r\n",
        "\r\n",
        "from tf_agents.agents.dqn import dqn_agent\r\n",
        "from tf_agents.drivers import dynamic_step_driver\r\n",
        "from tf_agents.eval import metric_utils\r\n",
        "from tf_agents.metrics import tf_metrics\r\n",
        "from tf_agents.networks import q_network\r\n",
        "from tf_agents.policies import random_tf_policy\r\n",
        "from tf_agents.replay_buffers import tf_uniform_replay_buffer\r\n",
        "from tf_agents.trajectories import trajectory\r\n",
        "from tf_agents.utils import common"
      ],
      "execution_count": 3,
      "outputs": []
    },
    {
      "cell_type": "markdown",
      "metadata": {
        "id": "eOHEFKKCFJS9"
      },
      "source": [
        "**Analyze Round-robin and Least outstanding algorithms**"
      ]
    },
    {
      "cell_type": "markdown",
      "metadata": {
        "id": "PleNzaqRJD39"
      },
      "source": [
        "## Mounting Metric and Access logs data from AWS Load balancing environment"
      ]
    },
    {
      "cell_type": "markdown",
      "metadata": {
        "id": "o8j63Q8VHY3B"
      },
      "source": [
        "Mounting Google drive to get the logs and metrics files for OOB algorithms"
      ]
    },
    {
      "cell_type": "code",
      "metadata": {
        "colab": {
          "base_uri": "https://localhost:8080/"
        },
        "id": "Nn8fPke1FaBv",
        "outputId": "058c635f-0630-4969-8c3c-95a0141ed6c5"
      },
      "source": [
        "from google.colab import drive\r\n",
        "drive.mount('/content/drive')"
      ],
      "execution_count": 4,
      "outputs": [
        {
          "output_type": "stream",
          "text": [
            "Mounted at /content/drive\n"
          ],
          "name": "stdout"
        }
      ]
    },
    {
      "cell_type": "markdown",
      "metadata": {
        "id": "P1EbQxS_J0AF"
      },
      "source": [
        "## Access Logs Dataset"
      ]
    },
    {
      "cell_type": "code",
      "metadata": {
        "id": "-yu2fxZqJ5jw"
      },
      "source": [
        "## Log Path for Default Algorithms\r\n",
        "\r\n",
        "# Round Robin Algorithm \r\n",
        "path_rrb = r'/content/drive/MyDrive/Implementation/Round-Robin'\r\n",
        "\r\n",
        "# Least Outstanding Request Algorithm \r\n",
        "path_los = r'/content/drive/MyDrive/Implementation/LOS'"
      ],
      "execution_count": 5,
      "outputs": []
    },
    {
      "cell_type": "code",
      "metadata": {
        "id": "BxrLDduuJ7GC"
      },
      "source": [
        "## Registered Targets - Virtual machine Tags and Private IP Address from AWS Environment\r\n",
        "\r\n",
        "targets = ['Target1', 'Target2', 'Target3']\r\n",
        "ipAddress = ['172.31.44.201','172.31.42.62','172.31.9.156']"
      ],
      "execution_count": 6,
      "outputs": []
    },
    {
      "cell_type": "code",
      "metadata": {
        "id": "Au6PFilUKS3E"
      },
      "source": [
        "## ELB Logs df creation with preprocessing steps\r\n",
        "\r\n",
        "def preprocess_workloadtype(request):\r\n",
        "  if re.findall('(sleep)|(consume)|(calculate)', request):\r\n",
        "    return re.split('GET http://workloadlb-1980040545.ap-south-1.elb.amazonaws.com:80/', request , maxsplit=2)[1].split(sep=' ')[0]\r\n",
        "  else:\r\n",
        "    return 'N/A'\r\n",
        "\r\n",
        "def preprocess_targetHost(target_port):\r\n",
        "  replacementDict = {'172.31.44.201': 'Target1', '172.31.42.62':'Target2', '172.31.9.156':'Target3'}\r\n",
        "  [*keyList] = replacementDict\r\n",
        "  if re.findall(keyList[0], target_port):\r\n",
        "    return re.sub(keyList[0],'Target1', target_port).split(sep=':')[0]\r\n",
        "  elif re.findall(keyList[1], target_port):\r\n",
        "    return re.sub(keyList[1],'Target2', target_port).split(sep=':')[0]\r\n",
        "  elif re.findall(keyList[2], target_port):\r\n",
        "    return re.sub(keyList[2],'Target3', target_port).split(sep=':')[0]\r\n",
        "  else:\r\n",
        "    return 'Unknown Target'\r\n",
        "\r\n",
        "\r\n",
        "def dropcols(df):\r\n",
        "  df.drop(df[df.WorkLoad_Type == 'N/A'].index, inplace=True)\r\n",
        "  df.drop(df[df['Target_processing_time'] == -1].index, inplace=True)\r\n",
        "  \r\n",
        "  return df\r\n",
        "\r\n",
        "def elb(type):\r\n",
        "  cols = ['Request_Type','Connection_Close_Time', 'ELB_Resource_ID', 'Requesting_Client_IP_Port', 'Target_IP_Port' , 'Request_processing_time', 'Target_processing_time', 'Response_processing_time', 'Elb_status_code', 'Target_status_code', 'Received_bytes', 'Sent_bytes', 'Request', 'User_agent', 'ssl_cipher', 'ssl_protocol', 'target_group_arn', 'Trace_id', 'Domain_Name', 'chosen_cert_arn', 'matched_rule_priority', 'Request_creation_time', 'Actions_executed', 'Redirect_url', 'error_reason', 'target:port_list', 'target_status_code_list', 'classification', 'classification_reason']\r\n",
        "  ist = pytz.timezone('Asia/Calcutta')\r\n",
        "  if type == 'RRB':\r\n",
        "    path = path_rrb\r\n",
        "  elif type == 'LOS':\r\n",
        "    path = path_los\r\n",
        "  \r\n",
        "  files = glob.glob(path + \"/*.log\")\r\n",
        "  fileslist = []\r\n",
        "\r\n",
        "  for filename in files:\r\n",
        "    df = pd.read_csv(filename, sep=' ', index_col=None, header=None)\r\n",
        "    fileslist.append(df)\r\n",
        "\r\n",
        "  df_elb = pd.concat(fileslist, axis=0, ignore_index=True)\r\n",
        "  df_elb.columns = cols \r\n",
        "  df_elb['WorkLoad_Type'] = df_elb['Request'].apply(preprocess_workloadtype)\r\n",
        "  df_elb['Target'] = df_elb['Target_IP_Port'].apply(preprocess_targetHost)\r\n",
        "  df_elb = dropcols(df_elb)\r\n",
        "  df_elb['Completion_Time'] = df_elb['Request_processing_time'] + df_elb['Target_processing_time']\r\n",
        "  df_elb['Connection_Close_Time'] = pd.to_datetime(df_elb['Connection_Close_Time'])\r\n",
        "  df_elb['Request_creation_time'] = pd.to_datetime(df_elb['Request_creation_time'])\r\n",
        "  df_elb.set_index('Request_creation_time', drop=True, append=False, inplace=True, verify_integrity=False)\r\n",
        "  df_elb = df_elb.sort_index()\r\n",
        "  df_elb.index = df_elb.index.tz_convert(ist).tz_localize(None)\r\n",
        "  df_elb.index = df_elb.index.round('S')\r\n",
        "  \r\n",
        "\r\n",
        "  return df_elb"
      ],
      "execution_count": 7,
      "outputs": []
    },
    {
      "cell_type": "code",
      "metadata": {
        "id": "pnuss1zOK9fr"
      },
      "source": [
        "## Dataset for Round-robin algorithm\r\n",
        "\r\n",
        "ELB_RRB = elb('RRB')"
      ],
      "execution_count": 8,
      "outputs": []
    },
    {
      "cell_type": "code",
      "metadata": {
        "id": "2BkszJACLqXE"
      },
      "source": [
        "## ## Dataset for Least outstanding algorithm\r\n",
        "\r\n",
        "ELB_LOS = elb('LOS')"
      ],
      "execution_count": 9,
      "outputs": []
    },
    {
      "cell_type": "code",
      "metadata": {
        "colab": {
          "base_uri": "https://localhost:8080/",
          "height": 497
        },
        "id": "H55YVxhsLzS1",
        "outputId": "023aad75-0b8f-401c-c539-ad38ff3d9851"
      },
      "source": [
        "ELB_RRB.head()"
      ],
      "execution_count": 10,
      "outputs": [
        {
          "output_type": "execute_result",
          "data": {
            "text/html": [
              "<div>\n",
              "<style scoped>\n",
              "    .dataframe tbody tr th:only-of-type {\n",
              "        vertical-align: middle;\n",
              "    }\n",
              "\n",
              "    .dataframe tbody tr th {\n",
              "        vertical-align: top;\n",
              "    }\n",
              "\n",
              "    .dataframe thead th {\n",
              "        text-align: right;\n",
              "    }\n",
              "</style>\n",
              "<table border=\"1\" class=\"dataframe\">\n",
              "  <thead>\n",
              "    <tr style=\"text-align: right;\">\n",
              "      <th></th>\n",
              "      <th>Request_Type</th>\n",
              "      <th>Connection_Close_Time</th>\n",
              "      <th>ELB_Resource_ID</th>\n",
              "      <th>Requesting_Client_IP_Port</th>\n",
              "      <th>Target_IP_Port</th>\n",
              "      <th>Request_processing_time</th>\n",
              "      <th>Target_processing_time</th>\n",
              "      <th>Response_processing_time</th>\n",
              "      <th>Elb_status_code</th>\n",
              "      <th>Target_status_code</th>\n",
              "      <th>Received_bytes</th>\n",
              "      <th>Sent_bytes</th>\n",
              "      <th>Request</th>\n",
              "      <th>User_agent</th>\n",
              "      <th>ssl_cipher</th>\n",
              "      <th>ssl_protocol</th>\n",
              "      <th>target_group_arn</th>\n",
              "      <th>Trace_id</th>\n",
              "      <th>Domain_Name</th>\n",
              "      <th>chosen_cert_arn</th>\n",
              "      <th>matched_rule_priority</th>\n",
              "      <th>Actions_executed</th>\n",
              "      <th>Redirect_url</th>\n",
              "      <th>error_reason</th>\n",
              "      <th>target:port_list</th>\n",
              "      <th>target_status_code_list</th>\n",
              "      <th>classification</th>\n",
              "      <th>classification_reason</th>\n",
              "      <th>WorkLoad_Type</th>\n",
              "      <th>Target</th>\n",
              "      <th>Completion_Time</th>\n",
              "    </tr>\n",
              "    <tr>\n",
              "      <th>Request_creation_time</th>\n",
              "      <th></th>\n",
              "      <th></th>\n",
              "      <th></th>\n",
              "      <th></th>\n",
              "      <th></th>\n",
              "      <th></th>\n",
              "      <th></th>\n",
              "      <th></th>\n",
              "      <th></th>\n",
              "      <th></th>\n",
              "      <th></th>\n",
              "      <th></th>\n",
              "      <th></th>\n",
              "      <th></th>\n",
              "      <th></th>\n",
              "      <th></th>\n",
              "      <th></th>\n",
              "      <th></th>\n",
              "      <th></th>\n",
              "      <th></th>\n",
              "      <th></th>\n",
              "      <th></th>\n",
              "      <th></th>\n",
              "      <th></th>\n",
              "      <th></th>\n",
              "      <th></th>\n",
              "      <th></th>\n",
              "      <th></th>\n",
              "      <th></th>\n",
              "      <th></th>\n",
              "      <th></th>\n",
              "    </tr>\n",
              "  </thead>\n",
              "  <tbody>\n",
              "    <tr>\n",
              "      <th>2021-01-18 17:24:01</th>\n",
              "      <td>http</td>\n",
              "      <td>2021-01-18 11:54:53.263324+00:00</td>\n",
              "      <td>app/WorkLoadLB/6321bc7e5fd5442c</td>\n",
              "      <td>183.82.191.133:7423</td>\n",
              "      <td>172.31.9.156:80</td>\n",
              "      <td>0.001</td>\n",
              "      <td>52.037</td>\n",
              "      <td>0.0</td>\n",
              "      <td>200</td>\n",
              "      <td>200</td>\n",
              "      <td>186</td>\n",
              "      <td>181</td>\n",
              "      <td>GET http://workloadlb-1980040545.ap-south-1.elb.amazonaws.com:80/sleep HTTP/1.1</td>\n",
              "      <td>python-requests/2.22.0</td>\n",
              "      <td>-</td>\n",
              "      <td>-</td>\n",
              "      <td>arn:aws:elasticloadbalancing:ap-south-1:526384880270:targetgroup/WorkLoadEC2/8f87234caa27216d</td>\n",
              "      <td>Root=1-600576d9-334835621f518d223403db31</td>\n",
              "      <td>-</td>\n",
              "      <td>-</td>\n",
              "      <td>0</td>\n",
              "      <td>forward</td>\n",
              "      <td>-</td>\n",
              "      <td>-</td>\n",
              "      <td>172.31.9.156:80</td>\n",
              "      <td>200</td>\n",
              "      <td>-</td>\n",
              "      <td>-</td>\n",
              "      <td>sleep</td>\n",
              "      <td>Target3</td>\n",
              "      <td>52.038</td>\n",
              "    </tr>\n",
              "    <tr>\n",
              "      <th>2021-01-18 17:24:02</th>\n",
              "      <td>http</td>\n",
              "      <td>2021-01-18 11:54:55.285060+00:00</td>\n",
              "      <td>app/WorkLoadLB/6321bc7e5fd5442c</td>\n",
              "      <td>183.82.191.133:5957</td>\n",
              "      <td>172.31.42.62:80</td>\n",
              "      <td>0.001</td>\n",
              "      <td>53.017</td>\n",
              "      <td>0.0</td>\n",
              "      <td>200</td>\n",
              "      <td>200</td>\n",
              "      <td>186</td>\n",
              "      <td>181</td>\n",
              "      <td>GET http://workloadlb-1980040545.ap-south-1.elb.amazonaws.com:80/sleep HTTP/1.1</td>\n",
              "      <td>python-requests/2.22.0</td>\n",
              "      <td>-</td>\n",
              "      <td>-</td>\n",
              "      <td>arn:aws:elasticloadbalancing:ap-south-1:526384880270:targetgroup/WorkLoadEC2/8f87234caa27216d</td>\n",
              "      <td>Root=1-600576da-40b15f490b6808c525766997</td>\n",
              "      <td>-</td>\n",
              "      <td>-</td>\n",
              "      <td>0</td>\n",
              "      <td>forward</td>\n",
              "      <td>-</td>\n",
              "      <td>-</td>\n",
              "      <td>172.31.42.62:80</td>\n",
              "      <td>200</td>\n",
              "      <td>-</td>\n",
              "      <td>-</td>\n",
              "      <td>sleep</td>\n",
              "      <td>Target2</td>\n",
              "      <td>53.018</td>\n",
              "    </tr>\n",
              "    <tr>\n",
              "      <th>2021-01-18 17:24:03</th>\n",
              "      <td>http</td>\n",
              "      <td>2021-01-18 11:55:00.273338+00:00</td>\n",
              "      <td>app/WorkLoadLB/6321bc7e5fd5442c</td>\n",
              "      <td>183.82.191.133:6478</td>\n",
              "      <td>172.31.44.201:80</td>\n",
              "      <td>0.001</td>\n",
              "      <td>57.033</td>\n",
              "      <td>0.0</td>\n",
              "      <td>200</td>\n",
              "      <td>200</td>\n",
              "      <td>186</td>\n",
              "      <td>181</td>\n",
              "      <td>GET http://workloadlb-1980040545.ap-south-1.elb.amazonaws.com:80/sleep HTTP/1.1</td>\n",
              "      <td>python-requests/2.22.0</td>\n",
              "      <td>-</td>\n",
              "      <td>-</td>\n",
              "      <td>arn:aws:elasticloadbalancing:ap-south-1:526384880270:targetgroup/WorkLoadEC2/8f87234caa27216d</td>\n",
              "      <td>Root=1-600576db-6bb6c0463bb753ad4559df49</td>\n",
              "      <td>-</td>\n",
              "      <td>-</td>\n",
              "      <td>0</td>\n",
              "      <td>forward</td>\n",
              "      <td>-</td>\n",
              "      <td>-</td>\n",
              "      <td>172.31.44.201:80</td>\n",
              "      <td>200</td>\n",
              "      <td>-</td>\n",
              "      <td>-</td>\n",
              "      <td>sleep</td>\n",
              "      <td>Target1</td>\n",
              "      <td>57.034</td>\n",
              "    </tr>\n",
              "    <tr>\n",
              "      <th>2021-01-18 17:24:04</th>\n",
              "      <td>http</td>\n",
              "      <td>2021-01-18 11:55:02.268283+00:00</td>\n",
              "      <td>app/WorkLoadLB/6321bc7e5fd5442c</td>\n",
              "      <td>183.82.191.133:5857</td>\n",
              "      <td>172.31.9.156:80</td>\n",
              "      <td>0.001</td>\n",
              "      <td>58.016</td>\n",
              "      <td>0.0</td>\n",
              "      <td>200</td>\n",
              "      <td>200</td>\n",
              "      <td>186</td>\n",
              "      <td>181</td>\n",
              "      <td>GET http://workloadlb-1980040545.ap-south-1.elb.amazonaws.com:80/sleep HTTP/1.1</td>\n",
              "      <td>python-requests/2.22.0</td>\n",
              "      <td>-</td>\n",
              "      <td>-</td>\n",
              "      <td>arn:aws:elasticloadbalancing:ap-south-1:526384880270:targetgroup/WorkLoadEC2/8f87234caa27216d</td>\n",
              "      <td>Root=1-600576dc-1cd84038078cf8b8321ee1ff</td>\n",
              "      <td>-</td>\n",
              "      <td>-</td>\n",
              "      <td>0</td>\n",
              "      <td>forward</td>\n",
              "      <td>-</td>\n",
              "      <td>-</td>\n",
              "      <td>172.31.9.156:80</td>\n",
              "      <td>200</td>\n",
              "      <td>-</td>\n",
              "      <td>-</td>\n",
              "      <td>sleep</td>\n",
              "      <td>Target3</td>\n",
              "      <td>58.017</td>\n",
              "    </tr>\n",
              "    <tr>\n",
              "      <th>2021-01-18 17:24:05</th>\n",
              "      <td>http</td>\n",
              "      <td>2021-01-18 11:54:57.348859+00:00</td>\n",
              "      <td>app/WorkLoadLB/6321bc7e5fd5442c</td>\n",
              "      <td>183.82.191.133:6930</td>\n",
              "      <td>172.31.9.156:80</td>\n",
              "      <td>0.000</td>\n",
              "      <td>52.053</td>\n",
              "      <td>0.0</td>\n",
              "      <td>200</td>\n",
              "      <td>200</td>\n",
              "      <td>186</td>\n",
              "      <td>181</td>\n",
              "      <td>GET http://workloadlb-1980040545.ap-south-1.elb.amazonaws.com:80/sleep HTTP/1.1</td>\n",
              "      <td>python-requests/2.22.0</td>\n",
              "      <td>-</td>\n",
              "      <td>-</td>\n",
              "      <td>arn:aws:elasticloadbalancing:ap-south-1:526384880270:targetgroup/WorkLoadEC2/8f87234caa27216d</td>\n",
              "      <td>Root=1-600576dd-431bf61f347c8a0d55d6dda6</td>\n",
              "      <td>-</td>\n",
              "      <td>-</td>\n",
              "      <td>0</td>\n",
              "      <td>forward</td>\n",
              "      <td>-</td>\n",
              "      <td>-</td>\n",
              "      <td>172.31.9.156:80</td>\n",
              "      <td>200</td>\n",
              "      <td>-</td>\n",
              "      <td>-</td>\n",
              "      <td>sleep</td>\n",
              "      <td>Target3</td>\n",
              "      <td>52.053</td>\n",
              "    </tr>\n",
              "  </tbody>\n",
              "</table>\n",
              "</div>"
            ],
            "text/plain": [
              "                      Request_Type  ... Completion_Time\n",
              "Request_creation_time               ...                \n",
              "2021-01-18 17:24:01           http  ...          52.038\n",
              "2021-01-18 17:24:02           http  ...          53.018\n",
              "2021-01-18 17:24:03           http  ...          57.034\n",
              "2021-01-18 17:24:04           http  ...          58.017\n",
              "2021-01-18 17:24:05           http  ...          52.053\n",
              "\n",
              "[5 rows x 31 columns]"
            ]
          },
          "metadata": {
            "tags": []
          },
          "execution_count": 10
        }
      ]
    },
    {
      "cell_type": "code",
      "metadata": {
        "colab": {
          "base_uri": "https://localhost:8080/",
          "height": 497
        },
        "id": "pqP5zdQBMXaj",
        "outputId": "3fb962f5-dcef-4de8-d49e-ed13071fb0e0"
      },
      "source": [
        "ELB_LOS.head()"
      ],
      "execution_count": 11,
      "outputs": [
        {
          "output_type": "execute_result",
          "data": {
            "text/html": [
              "<div>\n",
              "<style scoped>\n",
              "    .dataframe tbody tr th:only-of-type {\n",
              "        vertical-align: middle;\n",
              "    }\n",
              "\n",
              "    .dataframe tbody tr th {\n",
              "        vertical-align: top;\n",
              "    }\n",
              "\n",
              "    .dataframe thead th {\n",
              "        text-align: right;\n",
              "    }\n",
              "</style>\n",
              "<table border=\"1\" class=\"dataframe\">\n",
              "  <thead>\n",
              "    <tr style=\"text-align: right;\">\n",
              "      <th></th>\n",
              "      <th>Request_Type</th>\n",
              "      <th>Connection_Close_Time</th>\n",
              "      <th>ELB_Resource_ID</th>\n",
              "      <th>Requesting_Client_IP_Port</th>\n",
              "      <th>Target_IP_Port</th>\n",
              "      <th>Request_processing_time</th>\n",
              "      <th>Target_processing_time</th>\n",
              "      <th>Response_processing_time</th>\n",
              "      <th>Elb_status_code</th>\n",
              "      <th>Target_status_code</th>\n",
              "      <th>Received_bytes</th>\n",
              "      <th>Sent_bytes</th>\n",
              "      <th>Request</th>\n",
              "      <th>User_agent</th>\n",
              "      <th>ssl_cipher</th>\n",
              "      <th>ssl_protocol</th>\n",
              "      <th>target_group_arn</th>\n",
              "      <th>Trace_id</th>\n",
              "      <th>Domain_Name</th>\n",
              "      <th>chosen_cert_arn</th>\n",
              "      <th>matched_rule_priority</th>\n",
              "      <th>Actions_executed</th>\n",
              "      <th>Redirect_url</th>\n",
              "      <th>error_reason</th>\n",
              "      <th>target:port_list</th>\n",
              "      <th>target_status_code_list</th>\n",
              "      <th>classification</th>\n",
              "      <th>classification_reason</th>\n",
              "      <th>WorkLoad_Type</th>\n",
              "      <th>Target</th>\n",
              "      <th>Completion_Time</th>\n",
              "    </tr>\n",
              "    <tr>\n",
              "      <th>Request_creation_time</th>\n",
              "      <th></th>\n",
              "      <th></th>\n",
              "      <th></th>\n",
              "      <th></th>\n",
              "      <th></th>\n",
              "      <th></th>\n",
              "      <th></th>\n",
              "      <th></th>\n",
              "      <th></th>\n",
              "      <th></th>\n",
              "      <th></th>\n",
              "      <th></th>\n",
              "      <th></th>\n",
              "      <th></th>\n",
              "      <th></th>\n",
              "      <th></th>\n",
              "      <th></th>\n",
              "      <th></th>\n",
              "      <th></th>\n",
              "      <th></th>\n",
              "      <th></th>\n",
              "      <th></th>\n",
              "      <th></th>\n",
              "      <th></th>\n",
              "      <th></th>\n",
              "      <th></th>\n",
              "      <th></th>\n",
              "      <th></th>\n",
              "      <th></th>\n",
              "      <th></th>\n",
              "      <th></th>\n",
              "    </tr>\n",
              "  </thead>\n",
              "  <tbody>\n",
              "    <tr>\n",
              "      <th>2021-01-18 22:03:57</th>\n",
              "      <td>http</td>\n",
              "      <td>2021-01-18 16:34:52.748842+00:00</td>\n",
              "      <td>app/WorkLoadLB/6321bc7e5fd5442c</td>\n",
              "      <td>183.82.191.133:5936</td>\n",
              "      <td>172.31.44.201:80</td>\n",
              "      <td>0.000</td>\n",
              "      <td>56.015</td>\n",
              "      <td>0.0</td>\n",
              "      <td>200</td>\n",
              "      <td>200</td>\n",
              "      <td>186</td>\n",
              "      <td>181</td>\n",
              "      <td>GET http://workloadlb-1980040545.ap-south-1.elb.amazonaws.com:80/sleep HTTP/1.1</td>\n",
              "      <td>python-requests/2.22.0</td>\n",
              "      <td>-</td>\n",
              "      <td>-</td>\n",
              "      <td>arn:aws:elasticloadbalancing:ap-south-1:526384880270:targetgroup/WorkLoadEC2/8f87234caa27216d</td>\n",
              "      <td>Root=1-6005b874-441a00b841d7f71631eaeece</td>\n",
              "      <td>-</td>\n",
              "      <td>-</td>\n",
              "      <td>0</td>\n",
              "      <td>forward</td>\n",
              "      <td>-</td>\n",
              "      <td>-</td>\n",
              "      <td>172.31.44.201:80</td>\n",
              "      <td>200</td>\n",
              "      <td>-</td>\n",
              "      <td>-</td>\n",
              "      <td>sleep</td>\n",
              "      <td>Target1</td>\n",
              "      <td>56.015</td>\n",
              "    </tr>\n",
              "    <tr>\n",
              "      <th>2021-01-18 22:03:58</th>\n",
              "      <td>http</td>\n",
              "      <td>2021-01-18 16:34:49.651207+00:00</td>\n",
              "      <td>app/WorkLoadLB/6321bc7e5fd5442c</td>\n",
              "      <td>183.82.191.133:5657</td>\n",
              "      <td>172.31.42.62:80</td>\n",
              "      <td>0.000</td>\n",
              "      <td>52.004</td>\n",
              "      <td>0.0</td>\n",
              "      <td>200</td>\n",
              "      <td>200</td>\n",
              "      <td>186</td>\n",
              "      <td>181</td>\n",
              "      <td>GET http://workloadlb-1980040545.ap-south-1.elb.amazonaws.com:80/sleep HTTP/1.1</td>\n",
              "      <td>python-requests/2.22.0</td>\n",
              "      <td>-</td>\n",
              "      <td>-</td>\n",
              "      <td>arn:aws:elasticloadbalancing:ap-south-1:526384880270:targetgroup/WorkLoadEC2/8f87234caa27216d</td>\n",
              "      <td>Root=1-6005b875-19739dcd21ec2a146a0fae09</td>\n",
              "      <td>-</td>\n",
              "      <td>-</td>\n",
              "      <td>0</td>\n",
              "      <td>forward</td>\n",
              "      <td>-</td>\n",
              "      <td>-</td>\n",
              "      <td>172.31.42.62:80</td>\n",
              "      <td>200</td>\n",
              "      <td>-</td>\n",
              "      <td>-</td>\n",
              "      <td>sleep</td>\n",
              "      <td>Target2</td>\n",
              "      <td>52.004</td>\n",
              "    </tr>\n",
              "    <tr>\n",
              "      <th>2021-01-18 22:03:59</th>\n",
              "      <td>http</td>\n",
              "      <td>2021-01-18 16:34:52.707726+00:00</td>\n",
              "      <td>app/WorkLoadLB/6321bc7e5fd5442c</td>\n",
              "      <td>183.82.191.133:7100</td>\n",
              "      <td>172.31.9.156:80</td>\n",
              "      <td>0.001</td>\n",
              "      <td>54.049</td>\n",
              "      <td>0.0</td>\n",
              "      <td>200</td>\n",
              "      <td>200</td>\n",
              "      <td>186</td>\n",
              "      <td>181</td>\n",
              "      <td>GET http://workloadlb-1980040545.ap-south-1.elb.amazonaws.com:80/sleep HTTP/1.1</td>\n",
              "      <td>python-requests/2.22.0</td>\n",
              "      <td>-</td>\n",
              "      <td>-</td>\n",
              "      <td>arn:aws:elasticloadbalancing:ap-south-1:526384880270:targetgroup/WorkLoadEC2/8f87234caa27216d</td>\n",
              "      <td>Root=1-6005b876-7fcaf425414e46fa6b9a2b57</td>\n",
              "      <td>-</td>\n",
              "      <td>-</td>\n",
              "      <td>0</td>\n",
              "      <td>forward</td>\n",
              "      <td>-</td>\n",
              "      <td>-</td>\n",
              "      <td>172.31.9.156:80</td>\n",
              "      <td>200</td>\n",
              "      <td>-</td>\n",
              "      <td>-</td>\n",
              "      <td>sleep</td>\n",
              "      <td>Target3</td>\n",
              "      <td>54.050</td>\n",
              "    </tr>\n",
              "    <tr>\n",
              "      <th>2021-01-18 22:04:00</th>\n",
              "      <td>http</td>\n",
              "      <td>2021-01-18 16:34:52.734869+00:00</td>\n",
              "      <td>app/WorkLoadLB/6321bc7e5fd5442c</td>\n",
              "      <td>183.82.191.133:6599</td>\n",
              "      <td>172.31.44.201:80</td>\n",
              "      <td>0.000</td>\n",
              "      <td>53.053</td>\n",
              "      <td>0.0</td>\n",
              "      <td>200</td>\n",
              "      <td>200</td>\n",
              "      <td>186</td>\n",
              "      <td>181</td>\n",
              "      <td>GET http://workloadlb-1980040545.ap-south-1.elb.amazonaws.com:80/sleep HTTP/1.1</td>\n",
              "      <td>python-requests/2.22.0</td>\n",
              "      <td>-</td>\n",
              "      <td>-</td>\n",
              "      <td>arn:aws:elasticloadbalancing:ap-south-1:526384880270:targetgroup/WorkLoadEC2/8f87234caa27216d</td>\n",
              "      <td>Root=1-6005b877-00b4024b42c6d8b96a23b93b</td>\n",
              "      <td>-</td>\n",
              "      <td>-</td>\n",
              "      <td>0</td>\n",
              "      <td>forward</td>\n",
              "      <td>-</td>\n",
              "      <td>-</td>\n",
              "      <td>172.31.44.201:80</td>\n",
              "      <td>200</td>\n",
              "      <td>-</td>\n",
              "      <td>-</td>\n",
              "      <td>sleep</td>\n",
              "      <td>Target1</td>\n",
              "      <td>53.053</td>\n",
              "    </tr>\n",
              "    <tr>\n",
              "      <th>2021-01-18 22:04:01</th>\n",
              "      <td>http</td>\n",
              "      <td>2021-01-18 16:35:00.729558+00:00</td>\n",
              "      <td>app/WorkLoadLB/6321bc7e5fd5442c</td>\n",
              "      <td>183.82.191.133:5548</td>\n",
              "      <td>172.31.42.62:80</td>\n",
              "      <td>0.001</td>\n",
              "      <td>60.065</td>\n",
              "      <td>0.0</td>\n",
              "      <td>200</td>\n",
              "      <td>200</td>\n",
              "      <td>186</td>\n",
              "      <td>181</td>\n",
              "      <td>GET http://workloadlb-1980040545.ap-south-1.elb.amazonaws.com:80/sleep HTTP/1.1</td>\n",
              "      <td>python-requests/2.22.0</td>\n",
              "      <td>-</td>\n",
              "      <td>-</td>\n",
              "      <td>arn:aws:elasticloadbalancing:ap-south-1:526384880270:targetgroup/WorkLoadEC2/8f87234caa27216d</td>\n",
              "      <td>Root=1-6005b878-6222764b280d14832f51d374</td>\n",
              "      <td>-</td>\n",
              "      <td>-</td>\n",
              "      <td>0</td>\n",
              "      <td>forward</td>\n",
              "      <td>-</td>\n",
              "      <td>-</td>\n",
              "      <td>172.31.42.62:80</td>\n",
              "      <td>200</td>\n",
              "      <td>-</td>\n",
              "      <td>-</td>\n",
              "      <td>sleep</td>\n",
              "      <td>Target2</td>\n",
              "      <td>60.066</td>\n",
              "    </tr>\n",
              "  </tbody>\n",
              "</table>\n",
              "</div>"
            ],
            "text/plain": [
              "                      Request_Type  ... Completion_Time\n",
              "Request_creation_time               ...                \n",
              "2021-01-18 22:03:57           http  ...          56.015\n",
              "2021-01-18 22:03:58           http  ...          52.004\n",
              "2021-01-18 22:03:59           http  ...          54.050\n",
              "2021-01-18 22:04:00           http  ...          53.053\n",
              "2021-01-18 22:04:01           http  ...          60.066\n",
              "\n",
              "[5 rows x 31 columns]"
            ]
          },
          "metadata": {
            "tags": []
          },
          "execution_count": 11
        }
      ]
    },
    {
      "cell_type": "markdown",
      "metadata": {
        "id": "iXIBVGfWM2yC"
      },
      "source": [
        "## Memory Usage Metrics - Dataset"
      ]
    },
    {
      "cell_type": "code",
      "metadata": {
        "id": "0ElBuXk4Nad9"
      },
      "source": [
        "## Memory Utilization df\r\n",
        "\r\n",
        "def memory_utilization(type):\r\n",
        "  if type == 'RRB':\r\n",
        "    path = path_rrb\r\n",
        "  elif type == 'LOS':\r\n",
        "    path = path_los\r\n",
        "  df_list = []\r\n",
        "  ist = pytz.timezone('Asia/Calcutta')\r\n",
        "  for target in targets:\r\n",
        "    files = glob.glob(path + \"/MemoryUsed_\" + target + \"_*.json\")\r\n",
        "    for file in files:\r\n",
        "      with open(file) as f:\r\n",
        "        data = json.load(f)\r\n",
        "        df_mem = pd.json_normalize(pd.DataFrame(data)['Datapoints'])\r\n",
        "        df_mem['Target'] = target\r\n",
        "        df_list.append(df_mem)\r\n",
        "      f.close()\r\n",
        "    df_memory_used = pd.concat(df_list, axis=0, ignore_index=True)\r\n",
        "    df_memory_used['Timestamp'] = pd.to_datetime(df_memory_used['Timestamp'])\r\n",
        "    df_memory_used.set_index('Timestamp', drop=True, append=False, inplace=True, verify_integrity=False)\r\n",
        "    df_memory_used = df_memory_used.sort_index()\r\n",
        "    df_memory_used.index = df_memory_used.index.tz_convert(ist).tz_localize(None)\r\n",
        "    df_memory_used.index = df_memory_used.index.round('S')\r\n",
        "\r\n",
        "\r\n",
        "  return df_memory_used"
      ],
      "execution_count": 12,
      "outputs": []
    },
    {
      "cell_type": "code",
      "metadata": {
        "id": "mhO2MiKRNnDM"
      },
      "source": [
        "## Memory Used in Percentage for Round Robin Algorithm \r\n",
        "MemoryUsedRRB = memory_utilization('RRB')"
      ],
      "execution_count": 13,
      "outputs": []
    },
    {
      "cell_type": "code",
      "metadata": {
        "id": "Z1_RyeITNqgm"
      },
      "source": [
        "## Memory Used in Percentage for Least Outstanding Request Algorithm \r\n",
        "MemoryUsedLOS = memory_utilization('LOS')"
      ],
      "execution_count": 14,
      "outputs": []
    },
    {
      "cell_type": "code",
      "metadata": {
        "colab": {
          "base_uri": "https://localhost:8080/",
          "height": 0
        },
        "id": "_o6yFukmNtBw",
        "outputId": "457dd6b3-f766-434a-8b22-f313b7a0f6c5"
      },
      "source": [
        "MemoryUsedLOS.head()"
      ],
      "execution_count": 15,
      "outputs": [
        {
          "output_type": "execute_result",
          "data": {
            "text/html": [
              "<div>\n",
              "<style scoped>\n",
              "    .dataframe tbody tr th:only-of-type {\n",
              "        vertical-align: middle;\n",
              "    }\n",
              "\n",
              "    .dataframe tbody tr th {\n",
              "        vertical-align: top;\n",
              "    }\n",
              "\n",
              "    .dataframe thead th {\n",
              "        text-align: right;\n",
              "    }\n",
              "</style>\n",
              "<table border=\"1\" class=\"dataframe\">\n",
              "  <thead>\n",
              "    <tr style=\"text-align: right;\">\n",
              "      <th></th>\n",
              "      <th>Maximum</th>\n",
              "      <th>Unit</th>\n",
              "      <th>Target</th>\n",
              "    </tr>\n",
              "    <tr>\n",
              "      <th>Timestamp</th>\n",
              "      <th></th>\n",
              "      <th></th>\n",
              "      <th></th>\n",
              "    </tr>\n",
              "  </thead>\n",
              "  <tbody>\n",
              "    <tr>\n",
              "      <th>2021-01-18 22:00:03</th>\n",
              "      <td>23.456248</td>\n",
              "      <td>Percent</td>\n",
              "      <td>Target2</td>\n",
              "    </tr>\n",
              "    <tr>\n",
              "      <th>2021-01-18 22:00:04</th>\n",
              "      <td>24.816187</td>\n",
              "      <td>Percent</td>\n",
              "      <td>Target1</td>\n",
              "    </tr>\n",
              "    <tr>\n",
              "      <th>2021-01-18 22:00:05</th>\n",
              "      <td>23.748832</td>\n",
              "      <td>Percent</td>\n",
              "      <td>Target3</td>\n",
              "    </tr>\n",
              "    <tr>\n",
              "      <th>2021-01-18 22:00:13</th>\n",
              "      <td>23.456248</td>\n",
              "      <td>Percent</td>\n",
              "      <td>Target2</td>\n",
              "    </tr>\n",
              "    <tr>\n",
              "      <th>2021-01-18 22:00:14</th>\n",
              "      <td>24.841334</td>\n",
              "      <td>Percent</td>\n",
              "      <td>Target1</td>\n",
              "    </tr>\n",
              "  </tbody>\n",
              "</table>\n",
              "</div>"
            ],
            "text/plain": [
              "                       Maximum     Unit   Target\n",
              "Timestamp                                       \n",
              "2021-01-18 22:00:03  23.456248  Percent  Target2\n",
              "2021-01-18 22:00:04  24.816187  Percent  Target1\n",
              "2021-01-18 22:00:05  23.748832  Percent  Target3\n",
              "2021-01-18 22:00:13  23.456248  Percent  Target2\n",
              "2021-01-18 22:00:14  24.841334  Percent  Target1"
            ]
          },
          "metadata": {
            "tags": []
          },
          "execution_count": 15
        }
      ]
    },
    {
      "cell_type": "code",
      "metadata": {
        "colab": {
          "base_uri": "https://localhost:8080/",
          "height": 0
        },
        "id": "ZC2Pi3sYNz3R",
        "outputId": "a92f4dc6-4fea-408f-ee89-ee54b0390db9"
      },
      "source": [
        "MemoryUsedRRB.head()"
      ],
      "execution_count": 16,
      "outputs": [
        {
          "output_type": "execute_result",
          "data": {
            "text/html": [
              "<div>\n",
              "<style scoped>\n",
              "    .dataframe tbody tr th:only-of-type {\n",
              "        vertical-align: middle;\n",
              "    }\n",
              "\n",
              "    .dataframe tbody tr th {\n",
              "        vertical-align: top;\n",
              "    }\n",
              "\n",
              "    .dataframe thead th {\n",
              "        text-align: right;\n",
              "    }\n",
              "</style>\n",
              "<table border=\"1\" class=\"dataframe\">\n",
              "  <thead>\n",
              "    <tr style=\"text-align: right;\">\n",
              "      <th></th>\n",
              "      <th>Maximum</th>\n",
              "      <th>Unit</th>\n",
              "      <th>Target</th>\n",
              "    </tr>\n",
              "    <tr>\n",
              "      <th>Timestamp</th>\n",
              "      <th></th>\n",
              "      <th></th>\n",
              "      <th></th>\n",
              "    </tr>\n",
              "  </thead>\n",
              "  <tbody>\n",
              "    <tr>\n",
              "      <th>2021-01-18 17:22:03</th>\n",
              "      <td>21.108787</td>\n",
              "      <td>Percent</td>\n",
              "      <td>Target2</td>\n",
              "    </tr>\n",
              "    <tr>\n",
              "      <th>2021-01-18 17:22:04</th>\n",
              "      <td>21.330321</td>\n",
              "      <td>Percent</td>\n",
              "      <td>Target1</td>\n",
              "    </tr>\n",
              "    <tr>\n",
              "      <th>2021-01-18 17:22:05</th>\n",
              "      <td>21.436498</td>\n",
              "      <td>Percent</td>\n",
              "      <td>Target3</td>\n",
              "    </tr>\n",
              "    <tr>\n",
              "      <th>2021-01-18 17:22:13</th>\n",
              "      <td>21.111980</td>\n",
              "      <td>Percent</td>\n",
              "      <td>Target2</td>\n",
              "    </tr>\n",
              "    <tr>\n",
              "      <th>2021-01-18 17:22:14</th>\n",
              "      <td>21.358661</td>\n",
              "      <td>Percent</td>\n",
              "      <td>Target1</td>\n",
              "    </tr>\n",
              "  </tbody>\n",
              "</table>\n",
              "</div>"
            ],
            "text/plain": [
              "                       Maximum     Unit   Target\n",
              "Timestamp                                       \n",
              "2021-01-18 17:22:03  21.108787  Percent  Target2\n",
              "2021-01-18 17:22:04  21.330321  Percent  Target1\n",
              "2021-01-18 17:22:05  21.436498  Percent  Target3\n",
              "2021-01-18 17:22:13  21.111980  Percent  Target2\n",
              "2021-01-18 17:22:14  21.358661  Percent  Target1"
            ]
          },
          "metadata": {
            "tags": []
          },
          "execution_count": 16
        }
      ]
    },
    {
      "cell_type": "code",
      "metadata": {
        "id": "ISszbsswN264"
      },
      "source": [
        ""
      ],
      "execution_count": 16,
      "outputs": []
    },
    {
      "cell_type": "markdown",
      "metadata": {
        "id": "SBe0OxkPOJDJ"
      },
      "source": [
        "\r\n",
        "## CPU Utilization Metrics - Dataset"
      ]
    },
    {
      "cell_type": "code",
      "metadata": {
        "id": "hMVG5Xi5OYYI"
      },
      "source": [
        "## CPU Utilization df\r\n",
        "\r\n",
        "def cpu_utilization(type):\r\n",
        "  if type == 'RRB':\r\n",
        "    path = path_rrb\r\n",
        "  elif type == 'LOS':\r\n",
        "    path = path_los\r\n",
        "  df_list = []\r\n",
        "  ist = pytz.timezone('Asia/Calcutta')\r\n",
        "  for target in targets:\r\n",
        "    files = glob.glob(path + \"/CPUUtilization_\" + target + \".json\")\r\n",
        "    for file in files:\r\n",
        "      with open(file) as f:\r\n",
        "        data = json.load(f)\r\n",
        "        df_cpu = pd.json_normalize(pd.DataFrame(data)['Datapoints'])\r\n",
        "        df_cpu['Target'] = target\r\n",
        "        df_list.append(df_cpu)\r\n",
        "      f.close()\r\n",
        "    df_cpu_used = pd.concat(df_list, axis=0, ignore_index=True)\r\n",
        "    df_cpu_used['Timestamp'] = pd.to_datetime(df_cpu_used['Timestamp'])\r\n",
        "    df_cpu_used.set_index('Timestamp', drop=True, append=False, inplace=True, verify_integrity=False)\r\n",
        "    df_cpu_used = df_cpu_used.sort_index()\r\n",
        "    df_cpu_used.index = df_cpu_used.index.tz_convert(ist).tz_localize(None)\r\n",
        "    df_cpu_used.index = df_cpu_used.index.round('S')\r\n",
        "  return df_cpu_used"
      ],
      "execution_count": 22,
      "outputs": []
    },
    {
      "cell_type": "code",
      "metadata": {
        "id": "P-eZTeAuOkYH"
      },
      "source": [
        "## ## CPU Utilization in Percentage for Round Robin Algorithm \r\n",
        "CPUUtilization_RRB = cpu_utilization('RRB')"
      ],
      "execution_count": 23,
      "outputs": []
    },
    {
      "cell_type": "code",
      "metadata": {
        "id": "f3v7kchvOn5s"
      },
      "source": [
        "## ## CPU Utilization in Percentage for Least Outstannding Requests Algorithm \r\n",
        "CPUUtilization_LOS = cpu_utilization('LOS')"
      ],
      "execution_count": 24,
      "outputs": []
    },
    {
      "cell_type": "code",
      "metadata": {
        "colab": {
          "base_uri": "https://localhost:8080/",
          "height": 0
        },
        "id": "duQrHVzvOqC4",
        "outputId": "cd705828-ff37-4199-ea9b-ab764ecbd768"
      },
      "source": [
        "CPUUtilization_LOS.head()"
      ],
      "execution_count": 25,
      "outputs": [
        {
          "output_type": "execute_result",
          "data": {
            "text/html": [
              "<div>\n",
              "<style scoped>\n",
              "    .dataframe tbody tr th:only-of-type {\n",
              "        vertical-align: middle;\n",
              "    }\n",
              "\n",
              "    .dataframe tbody tr th {\n",
              "        vertical-align: top;\n",
              "    }\n",
              "\n",
              "    .dataframe thead th {\n",
              "        text-align: right;\n",
              "    }\n",
              "</style>\n",
              "<table border=\"1\" class=\"dataframe\">\n",
              "  <thead>\n",
              "    <tr style=\"text-align: right;\">\n",
              "      <th></th>\n",
              "      <th>Maximum</th>\n",
              "      <th>Unit</th>\n",
              "      <th>Target</th>\n",
              "    </tr>\n",
              "    <tr>\n",
              "      <th>Timestamp</th>\n",
              "      <th></th>\n",
              "      <th></th>\n",
              "      <th></th>\n",
              "    </tr>\n",
              "  </thead>\n",
              "  <tbody>\n",
              "    <tr>\n",
              "      <th>2021-01-18 22:01:00</th>\n",
              "      <td>19.180328</td>\n",
              "      <td>Percent</td>\n",
              "      <td>Target1</td>\n",
              "    </tr>\n",
              "    <tr>\n",
              "      <th>2021-01-18 22:03:00</th>\n",
              "      <td>33.833333</td>\n",
              "      <td>Percent</td>\n",
              "      <td>Target2</td>\n",
              "    </tr>\n",
              "    <tr>\n",
              "      <th>2021-01-18 22:04:00</th>\n",
              "      <td>31.000000</td>\n",
              "      <td>Percent</td>\n",
              "      <td>Target3</td>\n",
              "    </tr>\n",
              "    <tr>\n",
              "      <th>2021-01-18 22:06:00</th>\n",
              "      <td>36.000000</td>\n",
              "      <td>Percent</td>\n",
              "      <td>Target1</td>\n",
              "    </tr>\n",
              "    <tr>\n",
              "      <th>2021-01-18 22:08:00</th>\n",
              "      <td>43.833333</td>\n",
              "      <td>Percent</td>\n",
              "      <td>Target2</td>\n",
              "    </tr>\n",
              "  </tbody>\n",
              "</table>\n",
              "</div>"
            ],
            "text/plain": [
              "                       Maximum     Unit   Target\n",
              "Timestamp                                       \n",
              "2021-01-18 22:01:00  19.180328  Percent  Target1\n",
              "2021-01-18 22:03:00  33.833333  Percent  Target2\n",
              "2021-01-18 22:04:00  31.000000  Percent  Target3\n",
              "2021-01-18 22:06:00  36.000000  Percent  Target1\n",
              "2021-01-18 22:08:00  43.833333  Percent  Target2"
            ]
          },
          "metadata": {
            "tags": []
          },
          "execution_count": 25
        }
      ]
    },
    {
      "cell_type": "code",
      "metadata": {
        "colab": {
          "base_uri": "https://localhost:8080/",
          "height": 0
        },
        "id": "fziNBA0zOuC4",
        "outputId": "93edb6a5-c9e2-450d-8120-ad128c4c518f"
      },
      "source": [
        "CPUUtilization_RRB.head()"
      ],
      "execution_count": 26,
      "outputs": [
        {
          "output_type": "execute_result",
          "data": {
            "text/html": [
              "<div>\n",
              "<style scoped>\n",
              "    .dataframe tbody tr th:only-of-type {\n",
              "        vertical-align: middle;\n",
              "    }\n",
              "\n",
              "    .dataframe tbody tr th {\n",
              "        vertical-align: top;\n",
              "    }\n",
              "\n",
              "    .dataframe thead th {\n",
              "        text-align: right;\n",
              "    }\n",
              "</style>\n",
              "<table border=\"1\" class=\"dataframe\">\n",
              "  <thead>\n",
              "    <tr style=\"text-align: right;\">\n",
              "      <th></th>\n",
              "      <th>Maximum</th>\n",
              "      <th>Unit</th>\n",
              "      <th>Target</th>\n",
              "    </tr>\n",
              "    <tr>\n",
              "      <th>Timestamp</th>\n",
              "      <th></th>\n",
              "      <th></th>\n",
              "      <th></th>\n",
              "    </tr>\n",
              "  </thead>\n",
              "  <tbody>\n",
              "    <tr>\n",
              "      <th>2021-01-18 17:23:00</th>\n",
              "      <td>35.666667</td>\n",
              "      <td>Percent</td>\n",
              "      <td>Target2</td>\n",
              "    </tr>\n",
              "    <tr>\n",
              "      <th>2021-01-18 17:24:00</th>\n",
              "      <td>37.540984</td>\n",
              "      <td>Percent</td>\n",
              "      <td>Target3</td>\n",
              "    </tr>\n",
              "    <tr>\n",
              "      <th>2021-01-18 17:26:00</th>\n",
              "      <td>36.500000</td>\n",
              "      <td>Percent</td>\n",
              "      <td>Target1</td>\n",
              "    </tr>\n",
              "    <tr>\n",
              "      <th>2021-01-18 17:28:00</th>\n",
              "      <td>45.000000</td>\n",
              "      <td>Percent</td>\n",
              "      <td>Target2</td>\n",
              "    </tr>\n",
              "    <tr>\n",
              "      <th>2021-01-18 17:29:00</th>\n",
              "      <td>37.500000</td>\n",
              "      <td>Percent</td>\n",
              "      <td>Target3</td>\n",
              "    </tr>\n",
              "  </tbody>\n",
              "</table>\n",
              "</div>"
            ],
            "text/plain": [
              "                       Maximum     Unit   Target\n",
              "Timestamp                                       \n",
              "2021-01-18 17:23:00  35.666667  Percent  Target2\n",
              "2021-01-18 17:24:00  37.540984  Percent  Target3\n",
              "2021-01-18 17:26:00  36.500000  Percent  Target1\n",
              "2021-01-18 17:28:00  45.000000  Percent  Target2\n",
              "2021-01-18 17:29:00  37.500000  Percent  Target3"
            ]
          },
          "metadata": {
            "tags": []
          },
          "execution_count": 26
        }
      ]
    },
    {
      "cell_type": "markdown",
      "metadata": {
        "id": "JoFPbz-aPD4y"
      },
      "source": [
        "## CPU Credit Balance Metrics - Dataset"
      ]
    },
    {
      "cell_type": "code",
      "metadata": {
        "id": "pJ4YvNRtPJGa"
      },
      "source": [
        "## CPU Credit Balance df\r\n",
        "\r\n",
        "def cpu_creditbalance(type):\r\n",
        "  if type == 'RRB':\r\n",
        "    path = path_rrb\r\n",
        "  elif type == 'LOS':\r\n",
        "    path = path_los\r\n",
        "  df_list = []\r\n",
        "  ist = pytz.timezone('Asia/Calcutta')\r\n",
        "  for target in targets:\r\n",
        "    files = glob.glob(path + \"/CPUCreditBalance_\" + target + \".json\")\r\n",
        "    for file in files:\r\n",
        "      with open(file) as f:\r\n",
        "        data = json.load(f)\r\n",
        "        df_cpu = pd.json_normalize(pd.DataFrame(data)['Datapoints'])\r\n",
        "        df_cpu['Target'] = target\r\n",
        "        df_list.append(df_cpu)\r\n",
        "      f.close()\r\n",
        "    df_cpu_creditbalance = pd.concat(df_list, axis=0, ignore_index=True)\r\n",
        "    df_cpu_creditbalance['Timestamp'] = pd.to_datetime(df_cpu_creditbalance['Timestamp'])\r\n",
        "    df_cpu_creditbalance.set_index('Timestamp', drop=True, append=False, inplace=True, verify_integrity=False)\r\n",
        "    df_cpu_creditbalance = df_cpu_creditbalance.sort_index()\r\n",
        "    df_cpu_creditbalance.index = df_cpu_creditbalance.index.tz_convert(ist).tz_localize(None)\r\n",
        "    df_cpu_creditbalance.index = df_cpu_creditbalance.index.round('S')\r\n",
        "  return df_cpu_creditbalance"
      ],
      "execution_count": 27,
      "outputs": []
    },
    {
      "cell_type": "code",
      "metadata": {
        "id": "CibCxSvJPM3w"
      },
      "source": [
        "## ## CPU Credit Balance in Percentage for Round Robin Algorithm \r\n",
        "CPUCreditBalance_RRB = cpu_creditbalance('RRB')"
      ],
      "execution_count": 28,
      "outputs": []
    },
    {
      "cell_type": "code",
      "metadata": {
        "id": "F5p941wyPQDQ"
      },
      "source": [
        "## ## CPU Credit Balance in Percentage for Least Outstanding Algorithm \r\n",
        "CPUCreditBalance_LOS = cpu_creditbalance('LOS')"
      ],
      "execution_count": 29,
      "outputs": []
    },
    {
      "cell_type": "code",
      "metadata": {
        "colab": {
          "base_uri": "https://localhost:8080/",
          "height": 0
        },
        "id": "huXPwtpPPSfW",
        "outputId": "f0a5b544-49d2-4a7e-fb59-9f399fac8a19"
      },
      "source": [
        "CPUCreditBalance_LOS.head()"
      ],
      "execution_count": 30,
      "outputs": [
        {
          "output_type": "execute_result",
          "data": {
            "text/html": [
              "<div>\n",
              "<style scoped>\n",
              "    .dataframe tbody tr th:only-of-type {\n",
              "        vertical-align: middle;\n",
              "    }\n",
              "\n",
              "    .dataframe tbody tr th {\n",
              "        vertical-align: top;\n",
              "    }\n",
              "\n",
              "    .dataframe thead th {\n",
              "        text-align: right;\n",
              "    }\n",
              "</style>\n",
              "<table border=\"1\" class=\"dataframe\">\n",
              "  <thead>\n",
              "    <tr style=\"text-align: right;\">\n",
              "      <th></th>\n",
              "      <th>Maximum</th>\n",
              "      <th>Unit</th>\n",
              "      <th>Target</th>\n",
              "    </tr>\n",
              "    <tr>\n",
              "      <th>Timestamp</th>\n",
              "      <th></th>\n",
              "      <th></th>\n",
              "      <th></th>\n",
              "    </tr>\n",
              "  </thead>\n",
              "  <tbody>\n",
              "    <tr>\n",
              "      <th>2021-01-18 22:00:00</th>\n",
              "      <td>38.292080</td>\n",
              "      <td>Count</td>\n",
              "      <td>Target3</td>\n",
              "    </tr>\n",
              "    <tr>\n",
              "      <th>2021-01-18 22:00:00</th>\n",
              "      <td>36.992122</td>\n",
              "      <td>Count</td>\n",
              "      <td>Target1</td>\n",
              "    </tr>\n",
              "    <tr>\n",
              "      <th>2021-01-18 22:00:00</th>\n",
              "      <td>37.639911</td>\n",
              "      <td>Count</td>\n",
              "      <td>Target2</td>\n",
              "    </tr>\n",
              "    <tr>\n",
              "      <th>2021-01-18 22:05:00</th>\n",
              "      <td>37.438985</td>\n",
              "      <td>Count</td>\n",
              "      <td>Target1</td>\n",
              "    </tr>\n",
              "    <tr>\n",
              "      <th>2021-01-18 22:05:00</th>\n",
              "      <td>38.717063</td>\n",
              "      <td>Count</td>\n",
              "      <td>Target3</td>\n",
              "    </tr>\n",
              "  </tbody>\n",
              "</table>\n",
              "</div>"
            ],
            "text/plain": [
              "                       Maximum   Unit   Target\n",
              "Timestamp                                     \n",
              "2021-01-18 22:00:00  38.292080  Count  Target3\n",
              "2021-01-18 22:00:00  36.992122  Count  Target1\n",
              "2021-01-18 22:00:00  37.639911  Count  Target2\n",
              "2021-01-18 22:05:00  37.438985  Count  Target1\n",
              "2021-01-18 22:05:00  38.717063  Count  Target3"
            ]
          },
          "metadata": {
            "tags": []
          },
          "execution_count": 30
        }
      ]
    },
    {
      "cell_type": "code",
      "metadata": {
        "colab": {
          "base_uri": "https://localhost:8080/",
          "height": 0
        },
        "id": "k3RHxPLWPWiu",
        "outputId": "68989039-2e99-4149-db12-72be6d6ff3a2"
      },
      "source": [
        "CPUCreditBalance_RRB.head()"
      ],
      "execution_count": 31,
      "outputs": [
        {
          "output_type": "execute_result",
          "data": {
            "text/html": [
              "<div>\n",
              "<style scoped>\n",
              "    .dataframe tbody tr th:only-of-type {\n",
              "        vertical-align: middle;\n",
              "    }\n",
              "\n",
              "    .dataframe tbody tr th {\n",
              "        vertical-align: top;\n",
              "    }\n",
              "\n",
              "    .dataframe thead th {\n",
              "        text-align: right;\n",
              "    }\n",
              "</style>\n",
              "<table border=\"1\" class=\"dataframe\">\n",
              "  <thead>\n",
              "    <tr style=\"text-align: right;\">\n",
              "      <th></th>\n",
              "      <th>Maximum</th>\n",
              "      <th>Unit</th>\n",
              "      <th>Target</th>\n",
              "    </tr>\n",
              "    <tr>\n",
              "      <th>Timestamp</th>\n",
              "      <th></th>\n",
              "      <th></th>\n",
              "      <th></th>\n",
              "    </tr>\n",
              "  </thead>\n",
              "  <tbody>\n",
              "    <tr>\n",
              "      <th>2021-01-18 17:25:00</th>\n",
              "      <td>30.524470</td>\n",
              "      <td>Count</td>\n",
              "      <td>Target2</td>\n",
              "    </tr>\n",
              "    <tr>\n",
              "      <th>2021-01-18 17:25:00</th>\n",
              "      <td>30.502071</td>\n",
              "      <td>Count</td>\n",
              "      <td>Target3</td>\n",
              "    </tr>\n",
              "    <tr>\n",
              "      <th>2021-01-18 17:25:00</th>\n",
              "      <td>30.472406</td>\n",
              "      <td>Count</td>\n",
              "      <td>Target1</td>\n",
              "    </tr>\n",
              "    <tr>\n",
              "      <th>2021-01-18 17:30:00</th>\n",
              "      <td>29.355892</td>\n",
              "      <td>Count</td>\n",
              "      <td>Target1</td>\n",
              "    </tr>\n",
              "    <tr>\n",
              "      <th>2021-01-18 17:30:00</th>\n",
              "      <td>29.423765</td>\n",
              "      <td>Count</td>\n",
              "      <td>Target3</td>\n",
              "    </tr>\n",
              "  </tbody>\n",
              "</table>\n",
              "</div>"
            ],
            "text/plain": [
              "                       Maximum   Unit   Target\n",
              "Timestamp                                     \n",
              "2021-01-18 17:25:00  30.524470  Count  Target2\n",
              "2021-01-18 17:25:00  30.502071  Count  Target3\n",
              "2021-01-18 17:25:00  30.472406  Count  Target1\n",
              "2021-01-18 17:30:00  29.355892  Count  Target1\n",
              "2021-01-18 17:30:00  29.423765  Count  Target3"
            ]
          },
          "metadata": {
            "tags": []
          },
          "execution_count": 31
        }
      ]
    },
    {
      "cell_type": "markdown",
      "metadata": {
        "id": "cpgElETlPkK8"
      },
      "source": [
        "## Request Count - Dataset"
      ]
    },
    {
      "cell_type": "code",
      "metadata": {
        "id": "c6wgP4h7PtAP"
      },
      "source": [
        "## Application Load Balancer Request Count df\r\n",
        "\r\n",
        "def elb_requestcount(type):\r\n",
        "  if type == 'RRB':\r\n",
        "    path = path_rrb\r\n",
        "  elif type == 'LOS':\r\n",
        "    path = path_los\r\n",
        "  df_list = []\r\n",
        "  ist = pytz.timezone('Asia/Calcutta')\r\n",
        "  files = glob.glob(path + \"/RequestCount_*.json\")\r\n",
        "  for file in files:\r\n",
        "    with open(file) as f:\r\n",
        "      data = json.load(f)\r\n",
        "      df_reqcount = pd.json_normalize(pd.DataFrame(data)['Datapoints'])\r\n",
        "      df_list.append(df_reqcount)\r\n",
        "    f.close()\r\n",
        "  df_reqcount = pd.concat(df_list, axis=0, ignore_index=True)\r\n",
        "  df_reqcount['Timestamp'] = pd.to_datetime(df_reqcount['Timestamp'])\r\n",
        "  df_reqcount.set_index('Timestamp', drop=True, append=False, inplace=True, verify_integrity=False)\r\n",
        "  df_reqcount = df_reqcount.sort_index()\r\n",
        "  df_reqcount.index = df_reqcount.index.tz_convert(ist).tz_localize(None)\r\n",
        "  df_reqcount.index = df_reqcount.index.round('S')\r\n",
        "  return df_reqcount"
      ],
      "execution_count": 32,
      "outputs": []
    },
    {
      "cell_type": "code",
      "metadata": {
        "id": "P5ElOJJgPvcJ"
      },
      "source": [
        "## ## Application Load Balancer Request Count for Round Robin Algorithm \r\n",
        "RequestCount_RRB = elb_requestcount('RRB')"
      ],
      "execution_count": 33,
      "outputs": []
    },
    {
      "cell_type": "code",
      "metadata": {
        "id": "m7hBiMopPyaA"
      },
      "source": [
        "## ## Application Load Balancer Request Count for Least Outstanding Algorithm \r\n",
        "RequestCount_LOS = elb_requestcount('LOS')"
      ],
      "execution_count": 34,
      "outputs": []
    },
    {
      "cell_type": "code",
      "metadata": {
        "colab": {
          "base_uri": "https://localhost:8080/",
          "height": 0
        },
        "id": "YgeAqHSGP0in",
        "outputId": "3b3ef166-3abb-4a3d-e3d7-6529b47edbee"
      },
      "source": [
        "RequestCount_LOS.head()"
      ],
      "execution_count": 35,
      "outputs": [
        {
          "output_type": "execute_result",
          "data": {
            "text/html": [
              "<div>\n",
              "<style scoped>\n",
              "    .dataframe tbody tr th:only-of-type {\n",
              "        vertical-align: middle;\n",
              "    }\n",
              "\n",
              "    .dataframe tbody tr th {\n",
              "        vertical-align: top;\n",
              "    }\n",
              "\n",
              "    .dataframe thead th {\n",
              "        text-align: right;\n",
              "    }\n",
              "</style>\n",
              "<table border=\"1\" class=\"dataframe\">\n",
              "  <thead>\n",
              "    <tr style=\"text-align: right;\">\n",
              "      <th></th>\n",
              "      <th>Sum</th>\n",
              "      <th>Unit</th>\n",
              "    </tr>\n",
              "    <tr>\n",
              "      <th>Timestamp</th>\n",
              "      <th></th>\n",
              "      <th></th>\n",
              "    </tr>\n",
              "  </thead>\n",
              "  <tbody>\n",
              "    <tr>\n",
              "      <th>2021-01-18 22:00:00</th>\n",
              "      <td>0.0</td>\n",
              "      <td>Count</td>\n",
              "    </tr>\n",
              "    <tr>\n",
              "      <th>2021-01-18 22:01:00</th>\n",
              "      <td>0.0</td>\n",
              "      <td>Count</td>\n",
              "    </tr>\n",
              "    <tr>\n",
              "      <th>2021-01-18 22:02:00</th>\n",
              "      <td>0.0</td>\n",
              "      <td>Count</td>\n",
              "    </tr>\n",
              "    <tr>\n",
              "      <th>2021-01-18 22:03:00</th>\n",
              "      <td>0.0</td>\n",
              "      <td>Count</td>\n",
              "    </tr>\n",
              "    <tr>\n",
              "      <th>2021-01-18 22:04:00</th>\n",
              "      <td>17.0</td>\n",
              "      <td>Count</td>\n",
              "    </tr>\n",
              "  </tbody>\n",
              "</table>\n",
              "</div>"
            ],
            "text/plain": [
              "                      Sum   Unit\n",
              "Timestamp                       \n",
              "2021-01-18 22:00:00   0.0  Count\n",
              "2021-01-18 22:01:00   0.0  Count\n",
              "2021-01-18 22:02:00   0.0  Count\n",
              "2021-01-18 22:03:00   0.0  Count\n",
              "2021-01-18 22:04:00  17.0  Count"
            ]
          },
          "metadata": {
            "tags": []
          },
          "execution_count": 35
        }
      ]
    },
    {
      "cell_type": "code",
      "metadata": {
        "colab": {
          "base_uri": "https://localhost:8080/",
          "height": 0
        },
        "id": "o95Z5gKVP3zZ",
        "outputId": "1adc6a2a-9280-40fd-bb2f-ae407a22f340"
      },
      "source": [
        "RequestCount_RRB.head()"
      ],
      "execution_count": 36,
      "outputs": [
        {
          "output_type": "execute_result",
          "data": {
            "text/html": [
              "<div>\n",
              "<style scoped>\n",
              "    .dataframe tbody tr th:only-of-type {\n",
              "        vertical-align: middle;\n",
              "    }\n",
              "\n",
              "    .dataframe tbody tr th {\n",
              "        vertical-align: top;\n",
              "    }\n",
              "\n",
              "    .dataframe thead th {\n",
              "        text-align: right;\n",
              "    }\n",
              "</style>\n",
              "<table border=\"1\" class=\"dataframe\">\n",
              "  <thead>\n",
              "    <tr style=\"text-align: right;\">\n",
              "      <th></th>\n",
              "      <th>Sum</th>\n",
              "      <th>Unit</th>\n",
              "    </tr>\n",
              "    <tr>\n",
              "      <th>Timestamp</th>\n",
              "      <th></th>\n",
              "      <th></th>\n",
              "    </tr>\n",
              "  </thead>\n",
              "  <tbody>\n",
              "    <tr>\n",
              "      <th>2021-01-18 17:22:00</th>\n",
              "      <td>0.0</td>\n",
              "      <td>Count</td>\n",
              "    </tr>\n",
              "    <tr>\n",
              "      <th>2021-01-18 17:23:00</th>\n",
              "      <td>10.0</td>\n",
              "      <td>Count</td>\n",
              "    </tr>\n",
              "    <tr>\n",
              "      <th>2021-01-18 17:24:00</th>\n",
              "      <td>172.0</td>\n",
              "      <td>Count</td>\n",
              "    </tr>\n",
              "    <tr>\n",
              "      <th>2021-01-18 17:25:00</th>\n",
              "      <td>280.0</td>\n",
              "      <td>Count</td>\n",
              "    </tr>\n",
              "    <tr>\n",
              "      <th>2021-01-18 17:26:00</th>\n",
              "      <td>280.0</td>\n",
              "      <td>Count</td>\n",
              "    </tr>\n",
              "  </tbody>\n",
              "</table>\n",
              "</div>"
            ],
            "text/plain": [
              "                       Sum   Unit\n",
              "Timestamp                        \n",
              "2021-01-18 17:22:00    0.0  Count\n",
              "2021-01-18 17:23:00   10.0  Count\n",
              "2021-01-18 17:24:00  172.0  Count\n",
              "2021-01-18 17:25:00  280.0  Count\n",
              "2021-01-18 17:26:00  280.0  Count"
            ]
          },
          "metadata": {
            "tags": []
          },
          "execution_count": 36
        }
      ]
    },
    {
      "cell_type": "markdown",
      "metadata": {
        "id": "5SKZc6jaQoA7"
      },
      "source": [
        "## Resource Consumption - Visualization"
      ]
    },
    {
      "cell_type": "code",
      "metadata": {
        "colab": {
          "base_uri": "https://localhost:8080/",
          "height": 1000
        },
        "id": "uhmP2UlSQtu2",
        "outputId": "a6a7787a-24b1-4080-ef8e-225460287b94"
      },
      "source": [
        "%matplotlib inline\r\n",
        "import matplotlib.pyplot as plt\r\n",
        "plt.style.use('seaborn-white')\r\n",
        "\r\n",
        "\r\n",
        "plt.figure(figsize=(15,12))\r\n",
        "plt.subplot(4,2,1)\r\n",
        "plt.plot(CPUUtilization_RRB.loc[CPUUtilization_RRB['Target'] == 'Target1']['Maximum']) \r\n",
        "plt.plot(CPUUtilization_RRB.loc[CPUUtilization_RRB['Target'] == 'Target2']['Maximum'])\r\n",
        "plt.plot(CPUUtilization_RRB.loc[CPUUtilization_RRB['Target'] == 'Target3']['Maximum'])\r\n",
        "plt.title('CPUUtilization in Round Robin Algorithm')\r\n",
        "plt.ylabel('Utilization Percentage')\r\n",
        "plt.xticks(rotation=35)\r\n",
        "plt.legend(targets)\r\n",
        "\r\n",
        "\r\n",
        "plt.figure(figsize=(15,12))\r\n",
        "plt.subplot(4,2,2)\r\n",
        "plt.plot(CPUUtilization_LOS.loc[CPUUtilization_LOS['Target'] == 'Target1']['Maximum']) \r\n",
        "plt.plot(CPUUtilization_LOS.loc[CPUUtilization_LOS['Target'] == 'Target2']['Maximum'])\r\n",
        "plt.plot(CPUUtilization_LOS.loc[CPUUtilization_LOS['Target'] == 'Target3']['Maximum'])\r\n",
        "plt.title('CPUUtilization in Least Outstanding Algorithm')\r\n",
        "plt.ylabel('Utilization Percentage')\r\n",
        "plt.xticks(rotation=35)\r\n",
        "plt.legend(targets)\r\n",
        "\r\n",
        "\r\n",
        "plt.figure(figsize=(15,12))\r\n",
        "plt.subplot(4,2,5)\r\n",
        "plt.plot(MemoryUsedRRB.loc[MemoryUsedRRB['Target'] == 'Target1']['Maximum']) \r\n",
        "plt.plot(MemoryUsedRRB.loc[MemoryUsedRRB['Target'] == 'Target2']['Maximum'])\r\n",
        "plt.plot(MemoryUsedRRB.loc[MemoryUsedRRB['Target'] == 'Target3']['Maximum'])\r\n",
        "plt.title('Memory Used in Round Robin Algorithm')\r\n",
        "plt.ylabel('Usage Percentage')\r\n",
        "plt.xticks(rotation=35)\r\n",
        "plt.legend(targets)\r\n",
        "\r\n",
        "\r\n",
        "plt.figure(figsize=(15,12))\r\n",
        "plt.subplot(4,2,6)\r\n",
        "plt.plot(MemoryUsedLOS.loc[MemoryUsedLOS['Target'] == 'Target1']['Maximum']) \r\n",
        "plt.plot(MemoryUsedLOS.loc[MemoryUsedLOS['Target'] == 'Target2']['Maximum'])\r\n",
        "plt.plot(MemoryUsedLOS.loc[MemoryUsedLOS['Target'] == 'Target3']['Maximum'])\r\n",
        "plt.title('Memory Used in Least Outstanding Requests Algorithm')\r\n",
        "plt.ylabel('Usage Percentage')\r\n",
        "plt.xticks(rotation=35)\r\n",
        "plt.legend(targets)\r\n",
        "\r\n",
        "\r\n",
        "plt.figure(figsize=(15,12))\r\n",
        "plt.subplot(4,2,3)\r\n",
        "plt.plot(CPUCreditBalance_RRB.loc[CPUCreditBalance_RRB['Target'] == 'Target1']['Maximum']) \r\n",
        "plt.plot(CPUCreditBalance_RRB.loc[CPUCreditBalance_RRB['Target'] == 'Target2']['Maximum'])\r\n",
        "plt.plot(CPUCreditBalance_RRB.loc[CPUCreditBalance_RRB['Target'] == 'Target3']['Maximum'])\r\n",
        "plt.title('CPU Credit Balance in Round Robin Algorithm')\r\n",
        "plt.ylabel('Value')\r\n",
        "plt.xticks(rotation=35)\r\n",
        "plt.legend(targets)\r\n",
        "\r\n",
        "\r\n",
        "plt.figure(figsize=(15,12))\r\n",
        "plt.subplot(4,2,4)\r\n",
        "plt.plot(CPUCreditBalance_LOS.loc[CPUCreditBalance_LOS['Target'] == 'Target1']['Maximum']) \r\n",
        "plt.plot(CPUCreditBalance_LOS.loc[CPUCreditBalance_LOS['Target'] == 'Target2']['Maximum'])\r\n",
        "plt.plot(CPUCreditBalance_LOS.loc[CPUCreditBalance_LOS['Target'] == 'Target3']['Maximum'])\r\n",
        "plt.title('CPU Credit Balance in Least Outstanding Algorithm')\r\n",
        "plt.ylabel('Value')\r\n",
        "plt.xticks(rotation=35)\r\n",
        "plt.legend(targets)\r\n",
        "\r\n",
        "\r\n",
        "plt.figure(figsize=(15,12))\r\n",
        "plt.subplot(4,2,7)\r\n",
        "plt.plot(RequestCount_RRB['Sum']) \r\n",
        "plt.title('Request Count in Round Robin Algorithm')\r\n",
        "plt.ylabel('Value')\r\n",
        "plt.xticks(rotation=35)\r\n",
        "plt.legend('Request Count')\r\n",
        "\r\n",
        "\r\n",
        "plt.figure(figsize=(15,12))\r\n",
        "plt.subplot(4,2,8)\r\n",
        "plt.plot(RequestCount_LOS['Sum']) \r\n",
        "plt.title('Request Count in Least Outstanding Algorithm')\r\n",
        "plt.ylabel('Value')\r\n",
        "plt.xticks(rotation=35)\r\n",
        "plt.legend('Request Count')\r\n",
        "\r\n",
        "plt.show()"
      ],
      "execution_count": 37,
      "outputs": [
        {
          "output_type": "display_data",
          "data": {
            "image/png": "[encoded data removed]",
            "text/plain": [
              "<Figure size 1080x864 with 1 Axes>"
            ]
          },
          "metadata": {
            "tags": []
          }
        },
        {
          "output_type": "display_data",
          "data": {
            "image/png": "[encoded data removed]",
            "text/plain": [
              "<Figure size 1080x864 with 1 Axes>"
            ]
          },
          "metadata": {
            "tags": []
          }
        },
        {
          "output_type": "display_data",
          "data": {
            "image/png": "[encoded data removed]",
            "text/plain": [
              "<Figure size 1080x864 with 1 Axes>"
            ]
          },
          "metadata": {
            "tags": []
          }
        },
        {
          "output_type": "display_data",
          "data": {
            "image/png": "[encoded data removed]",
            "text/plain": [
              "<Figure size 1080x864 with 1 Axes>"
            ]
          },
          "metadata": {
            "tags": []
          }
        },
        {
          "output_type": "display_data",
          "data": {
            "image/png": "[encoded data removed]",
            "text/plain": [
              "<Figure size 1080x864 with 1 Axes>"
            ]
          },
          "metadata": {
            "tags": []
          }
        },
        {
          "output_type": "display_data",
          "data": {
            "image/png": "[encoded data removed]",
            "text/plain": [
              "<Figure size 1080x864 with 1 Axes>"
            ]
          },
          "metadata": {
            "tags": []
          }
        },
        {
          "output_type": "display_data",
          "data": {
            "image/png": "[encoded data removed]",
            "text/plain": [
              "<Figure size 1080x864 with 1 Axes>"
            ]
          },
          "metadata": {
            "tags": []
          }
        },
        {
          "output_type": "display_data",
          "data": {
            "image/png": "[encoded data removed]",
            "text/plain": [
              "<Figure size 1080x864 with 1 Axes>"
            ]
          },
          "metadata": {
            "tags": []
          }
        }
      ]
    },
    {
      "cell_type": "markdown",
      "metadata": {
        "id": "THq8Mx6DRwxo"
      },
      "source": [
        "Result -1 \r\n",
        "\r\n",
        "\r\n",
        "1.   It is clearly evident that Memory utilization of Target1 is high compared to other targets in Least Outstanding Algorithm\r\n",
        "2.   Maximum CPU Utilization of Target 1 is relatively high compared to other targets in Round-robin algorithm\r\n",
        "3.   It is concluded that Round-robin algorithm performs better than least outstanding algorithm in efficently utilizing the targets for this workload\r\n",
        "\r\n",
        "Conclusion - **Round-robin is better choice for this workload**\r\n",
        "\r\n"
      ]
    },
    {
      "cell_type": "markdown",
      "metadata": {
        "id": "wHjIgITFTB8E"
      },
      "source": [
        "## Workload wise Analysis"
      ]
    },
    {
      "cell_type": "code",
      "metadata": {
        "colab": {
          "base_uri": "https://localhost:8080/",
          "height": 343
        },
        "id": "C2I94pQuTjX7",
        "outputId": "c3cf1b87-29d8-4bef-da63-561df1a30e44"
      },
      "source": [
        "ELB_RRB.groupby(['Target', 'WorkLoad_Type'])['Completion_Time'].describe()\r\n"
      ],
      "execution_count": 38,
      "outputs": [
        {
          "output_type": "execute_result",
          "data": {
            "text/html": [
              "<div>\n",
              "<style scoped>\n",
              "    .dataframe tbody tr th:only-of-type {\n",
              "        vertical-align: middle;\n",
              "    }\n",
              "\n",
              "    .dataframe tbody tr th {\n",
              "        vertical-align: top;\n",
              "    }\n",
              "\n",
              "    .dataframe thead th {\n",
              "        text-align: right;\n",
              "    }\n",
              "</style>\n",
              "<table border=\"1\" class=\"dataframe\">\n",
              "  <thead>\n",
              "    <tr style=\"text-align: right;\">\n",
              "      <th></th>\n",
              "      <th></th>\n",
              "      <th>count</th>\n",
              "      <th>mean</th>\n",
              "      <th>std</th>\n",
              "      <th>min</th>\n",
              "      <th>25%</th>\n",
              "      <th>50%</th>\n",
              "      <th>75%</th>\n",
              "      <th>max</th>\n",
              "    </tr>\n",
              "    <tr>\n",
              "      <th>Target</th>\n",
              "      <th>WorkLoad_Type</th>\n",
              "      <th></th>\n",
              "      <th></th>\n",
              "      <th></th>\n",
              "      <th></th>\n",
              "      <th></th>\n",
              "      <th></th>\n",
              "      <th></th>\n",
              "      <th></th>\n",
              "    </tr>\n",
              "  </thead>\n",
              "  <tbody>\n",
              "    <tr>\n",
              "      <th rowspan=\"3\" valign=\"top\">Target1</th>\n",
              "      <th>calculate</th>\n",
              "      <td>1711.0</td>\n",
              "      <td>0.002108</td>\n",
              "      <td>0.002047</td>\n",
              "      <td>0.001</td>\n",
              "      <td>0.001</td>\n",
              "      <td>0.001</td>\n",
              "      <td>0.00200</td>\n",
              "      <td>0.019</td>\n",
              "    </tr>\n",
              "    <tr>\n",
              "      <th>consume</th>\n",
              "      <td>1825.0</td>\n",
              "      <td>10.011989</td>\n",
              "      <td>0.004382</td>\n",
              "      <td>10.002</td>\n",
              "      <td>10.010</td>\n",
              "      <td>10.011</td>\n",
              "      <td>10.01300</td>\n",
              "      <td>10.038</td>\n",
              "    </tr>\n",
              "    <tr>\n",
              "      <th>sleep</th>\n",
              "      <td>1771.0</td>\n",
              "      <td>55.011320</td>\n",
              "      <td>3.407448</td>\n",
              "      <td>4.516</td>\n",
              "      <td>52.052</td>\n",
              "      <td>55.048</td>\n",
              "      <td>58.03250</td>\n",
              "      <td>60.084</td>\n",
              "    </tr>\n",
              "    <tr>\n",
              "      <th rowspan=\"3\" valign=\"top\">Target2</th>\n",
              "      <th>calculate</th>\n",
              "      <td>1824.0</td>\n",
              "      <td>0.002180</td>\n",
              "      <td>0.002114</td>\n",
              "      <td>0.001</td>\n",
              "      <td>0.001</td>\n",
              "      <td>0.001</td>\n",
              "      <td>0.00200</td>\n",
              "      <td>0.024</td>\n",
              "    </tr>\n",
              "    <tr>\n",
              "      <th>consume</th>\n",
              "      <td>1783.0</td>\n",
              "      <td>10.011886</td>\n",
              "      <td>0.004863</td>\n",
              "      <td>10.001</td>\n",
              "      <td>10.010</td>\n",
              "      <td>10.011</td>\n",
              "      <td>10.01300</td>\n",
              "      <td>10.071</td>\n",
              "    </tr>\n",
              "    <tr>\n",
              "      <th>sleep</th>\n",
              "      <td>1704.0</td>\n",
              "      <td>55.093683</td>\n",
              "      <td>3.192264</td>\n",
              "      <td>50.002</td>\n",
              "      <td>52.053</td>\n",
              "      <td>55.054</td>\n",
              "      <td>58.03925</td>\n",
              "      <td>60.077</td>\n",
              "    </tr>\n",
              "    <tr>\n",
              "      <th rowspan=\"3\" valign=\"top\">Target3</th>\n",
              "      <th>calculate</th>\n",
              "      <td>1782.0</td>\n",
              "      <td>0.002269</td>\n",
              "      <td>0.001933</td>\n",
              "      <td>0.001</td>\n",
              "      <td>0.001</td>\n",
              "      <td>0.002</td>\n",
              "      <td>0.00200</td>\n",
              "      <td>0.015</td>\n",
              "    </tr>\n",
              "    <tr>\n",
              "      <th>consume</th>\n",
              "      <td>1696.0</td>\n",
              "      <td>10.009538</td>\n",
              "      <td>0.087987</td>\n",
              "      <td>6.392</td>\n",
              "      <td>10.010</td>\n",
              "      <td>10.011</td>\n",
              "      <td>10.01300</td>\n",
              "      <td>10.036</td>\n",
              "    </tr>\n",
              "    <tr>\n",
              "      <th>sleep</th>\n",
              "      <td>1843.0</td>\n",
              "      <td>55.030186</td>\n",
              "      <td>3.152166</td>\n",
              "      <td>50.002</td>\n",
              "      <td>52.054</td>\n",
              "      <td>55.041</td>\n",
              "      <td>58.03950</td>\n",
              "      <td>60.082</td>\n",
              "    </tr>\n",
              "  </tbody>\n",
              "</table>\n",
              "</div>"
            ],
            "text/plain": [
              "                        count       mean       std  ...     50%       75%     max\n",
              "Target  WorkLoad_Type                               ...                          \n",
              "Target1 calculate      1711.0   0.002108  0.002047  ...   0.001   0.00200   0.019\n",
              "        consume        1825.0  10.011989  0.004382  ...  10.011  10.01300  10.038\n",
              "        sleep          1771.0  55.011320  3.407448  ...  55.048  58.03250  60.084\n",
              "Target2 calculate      1824.0   0.002180  0.002114  ...   0.001   0.00200   0.024\n",
              "        consume        1783.0  10.011886  0.004863  ...  10.011  10.01300  10.071\n",
              "        sleep          1704.0  55.093683  3.192264  ...  55.054  58.03925  60.077\n",
              "Target3 calculate      1782.0   0.002269  0.001933  ...   0.002   0.00200   0.015\n",
              "        consume        1696.0  10.009538  0.087987  ...  10.011  10.01300  10.036\n",
              "        sleep          1843.0  55.030186  3.152166  ...  55.041  58.03950  60.082\n",
              "\n",
              "[9 rows x 8 columns]"
            ]
          },
          "metadata": {
            "tags": []
          },
          "execution_count": 38
        }
      ]
    },
    {
      "cell_type": "code",
      "metadata": {
        "colab": {
          "base_uri": "https://localhost:8080/",
          "height": 343
        },
        "id": "ozgsFY2ETmMZ",
        "outputId": "698bc8ee-91b5-4db8-821d-44735fd9edc6"
      },
      "source": [
        "ELB_LOS.groupby(['Target', 'WorkLoad_Type'])['Completion_Time'].describe()\r\n"
      ],
      "execution_count": 39,
      "outputs": [
        {
          "output_type": "execute_result",
          "data": {
            "text/html": [
              "<div>\n",
              "<style scoped>\n",
              "    .dataframe tbody tr th:only-of-type {\n",
              "        vertical-align: middle;\n",
              "    }\n",
              "\n",
              "    .dataframe tbody tr th {\n",
              "        vertical-align: top;\n",
              "    }\n",
              "\n",
              "    .dataframe thead th {\n",
              "        text-align: right;\n",
              "    }\n",
              "</style>\n",
              "<table border=\"1\" class=\"dataframe\">\n",
              "  <thead>\n",
              "    <tr style=\"text-align: right;\">\n",
              "      <th></th>\n",
              "      <th></th>\n",
              "      <th>count</th>\n",
              "      <th>mean</th>\n",
              "      <th>std</th>\n",
              "      <th>min</th>\n",
              "      <th>25%</th>\n",
              "      <th>50%</th>\n",
              "      <th>75%</th>\n",
              "      <th>max</th>\n",
              "    </tr>\n",
              "    <tr>\n",
              "      <th>Target</th>\n",
              "      <th>WorkLoad_Type</th>\n",
              "      <th></th>\n",
              "      <th></th>\n",
              "      <th></th>\n",
              "      <th></th>\n",
              "      <th></th>\n",
              "      <th></th>\n",
              "      <th></th>\n",
              "      <th></th>\n",
              "    </tr>\n",
              "  </thead>\n",
              "  <tbody>\n",
              "    <tr>\n",
              "      <th rowspan=\"3\" valign=\"top\">Target1</th>\n",
              "      <th>calculate</th>\n",
              "      <td>1850.0</td>\n",
              "      <td>0.001835</td>\n",
              "      <td>0.002430</td>\n",
              "      <td>0.001</td>\n",
              "      <td>0.001</td>\n",
              "      <td>0.0010</td>\n",
              "      <td>0.001</td>\n",
              "      <td>0.033</td>\n",
              "    </tr>\n",
              "    <tr>\n",
              "      <th>consume</th>\n",
              "      <td>1803.0</td>\n",
              "      <td>10.012057</td>\n",
              "      <td>0.004904</td>\n",
              "      <td>10.001</td>\n",
              "      <td>10.010</td>\n",
              "      <td>10.0110</td>\n",
              "      <td>10.014</td>\n",
              "      <td>10.051</td>\n",
              "    </tr>\n",
              "    <tr>\n",
              "      <th>sleep</th>\n",
              "      <td>1813.0</td>\n",
              "      <td>54.947558</td>\n",
              "      <td>3.034662</td>\n",
              "      <td>50.002</td>\n",
              "      <td>52.054</td>\n",
              "      <td>55.0440</td>\n",
              "      <td>57.063</td>\n",
              "      <td>60.078</td>\n",
              "    </tr>\n",
              "    <tr>\n",
              "      <th rowspan=\"3\" valign=\"top\">Target2</th>\n",
              "      <th>calculate</th>\n",
              "      <td>1822.0</td>\n",
              "      <td>0.003797</td>\n",
              "      <td>0.086439</td>\n",
              "      <td>0.001</td>\n",
              "      <td>0.001</td>\n",
              "      <td>0.0010</td>\n",
              "      <td>0.001</td>\n",
              "      <td>3.690</td>\n",
              "    </tr>\n",
              "    <tr>\n",
              "      <th>consume</th>\n",
              "      <td>1808.0</td>\n",
              "      <td>10.007117</td>\n",
              "      <td>0.201629</td>\n",
              "      <td>1.441</td>\n",
              "      <td>10.010</td>\n",
              "      <td>10.0110</td>\n",
              "      <td>10.014</td>\n",
              "      <td>10.055</td>\n",
              "    </tr>\n",
              "    <tr>\n",
              "      <th>sleep</th>\n",
              "      <td>1810.0</td>\n",
              "      <td>54.946365</td>\n",
              "      <td>3.437671</td>\n",
              "      <td>0.554</td>\n",
              "      <td>52.051</td>\n",
              "      <td>55.0395</td>\n",
              "      <td>58.035</td>\n",
              "      <td>60.090</td>\n",
              "    </tr>\n",
              "    <tr>\n",
              "      <th rowspan=\"3\" valign=\"top\">Target3</th>\n",
              "      <th>calculate</th>\n",
              "      <td>1759.0</td>\n",
              "      <td>0.002581</td>\n",
              "      <td>0.002097</td>\n",
              "      <td>0.001</td>\n",
              "      <td>0.002</td>\n",
              "      <td>0.0020</td>\n",
              "      <td>0.002</td>\n",
              "      <td>0.026</td>\n",
              "    </tr>\n",
              "    <tr>\n",
              "      <th>consume</th>\n",
              "      <td>1804.0</td>\n",
              "      <td>10.012340</td>\n",
              "      <td>0.004603</td>\n",
              "      <td>10.002</td>\n",
              "      <td>10.010</td>\n",
              "      <td>10.0110</td>\n",
              "      <td>10.014</td>\n",
              "      <td>10.055</td>\n",
              "    </tr>\n",
              "    <tr>\n",
              "      <th>sleep</th>\n",
              "      <td>1809.0</td>\n",
              "      <td>55.055368</td>\n",
              "      <td>3.126145</td>\n",
              "      <td>50.002</td>\n",
              "      <td>52.054</td>\n",
              "      <td>55.0450</td>\n",
              "      <td>58.029</td>\n",
              "      <td>60.077</td>\n",
              "    </tr>\n",
              "  </tbody>\n",
              "</table>\n",
              "</div>"
            ],
            "text/plain": [
              "                        count       mean       std  ...      50%     75%     max\n",
              "Target  WorkLoad_Type                               ...                         \n",
              "Target1 calculate      1850.0   0.001835  0.002430  ...   0.0010   0.001   0.033\n",
              "        consume        1803.0  10.012057  0.004904  ...  10.0110  10.014  10.051\n",
              "        sleep          1813.0  54.947558  3.034662  ...  55.0440  57.063  60.078\n",
              "Target2 calculate      1822.0   0.003797  0.086439  ...   0.0010   0.001   3.690\n",
              "        consume        1808.0  10.007117  0.201629  ...  10.0110  10.014  10.055\n",
              "        sleep          1810.0  54.946365  3.437671  ...  55.0395  58.035  60.090\n",
              "Target3 calculate      1759.0   0.002581  0.002097  ...   0.0020   0.002   0.026\n",
              "        consume        1804.0  10.012340  0.004603  ...  10.0110  10.014  10.055\n",
              "        sleep          1809.0  55.055368  3.126145  ...  55.0450  58.029  60.077\n",
              "\n",
              "[9 rows x 8 columns]"
            ]
          },
          "metadata": {
            "tags": []
          },
          "execution_count": 39
        }
      ]
    },
    {
      "cell_type": "markdown",
      "metadata": {
        "id": "Qh6TVhkBXyoZ"
      },
      "source": [
        "Result 2:\r\n",
        "\r\n",
        "\r\n",
        "1.   Maximum Completion Time for workload types calculate and consume has been increased in Least outstanding request algorithm compared to round-robin algorithm\r\n",
        "2.   Maximum completion time for sleep workload type is slightly increased in round-robin lgorithm for 2 targets \r\n",
        "\r\n",
        "Conclusion - This results confirms further that **Round-robin algorithm performs better** in efficiently utilizing the resources for routing the requests\r\n"
      ]
    },
    {
      "cell_type": "markdown",
      "metadata": {
        "id": "2Ig49itOaT6j"
      },
      "source": [
        "## Data Generation for RL Observation space"
      ]
    },
    {
      "cell_type": "markdown",
      "metadata": {
        "id": "OaWHSdhWa11C"
      },
      "source": [
        "Based on Result 1 and Result 2 - Roun-robin algorithm is best choice for this workload. Hence Data for observation space is generated from Round-robin dataset"
      ]
    },
    {
      "cell_type": "code",
      "metadata": {
        "id": "_8yT8cOqbDPw"
      },
      "source": [
        "\r\n",
        "### Upsampling Memory used , CPU Utilization , CPU Credit Balance for individual targets for Round Robin Algorithm results\r\n",
        "\r\n",
        "MemoryUsedRRB_Target1 = MemoryUsedRRB.loc[MemoryUsedRRB['Target'] == 'Target1']\r\n",
        "MemoryUsedRRB_Target1 = MemoryUsedRRB_Target1.resample('S').sum()\r\n",
        "MemoryUsedRRB_Target1['Maximum'] = MemoryUsedRRB_Target1['Maximum'].replace(0.0, np.NaN)\r\n",
        "MemoryUsedRRB_Target1 = MemoryUsedRRB_Target1.interpolate(method='linear')\r\n",
        "\r\n",
        "MemoryUsedRRB_Target2 = MemoryUsedRRB.loc[MemoryUsedRRB['Target'] == 'Target2']\r\n",
        "MemoryUsedRRB_Target2 = MemoryUsedRRB_Target2.resample('S').sum()\r\n",
        "MemoryUsedRRB_Target2['Maximum'] = MemoryUsedRRB_Target2['Maximum'].replace(0.0, np.NaN)\r\n",
        "MemoryUsedRRB_Target2 = MemoryUsedRRB_Target2.interpolate(method='linear')\r\n",
        "\r\n",
        "MemoryUsedRRB_Target3 = MemoryUsedRRB.loc[MemoryUsedRRB['Target'] == 'Target3']\r\n",
        "MemoryUsedRRB_Target3 = MemoryUsedRRB_Target3.resample('S').sum()\r\n",
        "MemoryUsedRRB_Target3['Maximum'] = MemoryUsedRRB_Target3['Maximum'].replace(0.0, np.NaN)\r\n",
        "MemoryUsedRRB_Target3 = MemoryUsedRRB_Target3.interpolate(method='linear')\r\n",
        "\r\n",
        "CPUUtilization_RRB_Target1 = CPUUtilization_RRB.loc[CPUUtilization_RRB['Target'] == 'Target1']\r\n",
        "CPUUtilization_RRB_Target1 = CPUUtilization_RRB_Target1.resample('S').sum()\r\n",
        "CPUUtilization_RRB_Target1['Maximum'] = CPUUtilization_RRB_Target1['Maximum'].replace(0.0, np.NaN)\r\n",
        "CPUUtilization_RRB_Target1 = CPUUtilization_RRB_Target1.interpolate(method='linear')\r\n",
        "\r\n",
        "CPUUtilization_RRB_Target2 = CPUUtilization_RRB.loc[CPUUtilization_RRB['Target'] == 'Target2']\r\n",
        "CPUUtilization_RRB_Target2 = CPUUtilization_RRB_Target2.resample('S').sum()\r\n",
        "CPUUtilization_RRB_Target2['Maximum'] = CPUUtilization_RRB_Target2['Maximum'].replace(0.0, np.NaN)\r\n",
        "CPUUtilization_RRB_Target2 = CPUUtilization_RRB_Target2.interpolate(method='linear')\r\n",
        "\r\n",
        "CPUUtilization_RRB_Target3 = CPUUtilization_RRB.loc[CPUUtilization_RRB['Target'] == 'Target3']\r\n",
        "CPUUtilization_RRB_Target3 = CPUUtilization_RRB_Target3.resample('S').sum()\r\n",
        "CPUUtilization_RRB_Target3['Maximum'] = CPUUtilization_RRB_Target3['Maximum'].replace(0.0, np.NaN)\r\n",
        "CPUUtilization_RRB_Target3 = CPUUtilization_RRB_Target3.interpolate(method='linear')\r\n",
        "\r\n",
        "CPUCreditBalance_RRB_Target1 = CPUCreditBalance_RRB.loc[CPUCreditBalance_RRB['Target'] == 'Target1']\r\n",
        "CPUCreditBalance_RRB_Target1 = CPUCreditBalance_RRB_Target1.resample('S').sum()\r\n",
        "CPUCreditBalance_RRB_Target1['Maximum'] = CPUCreditBalance_RRB_Target1['Maximum'].replace(0.0, np.NaN)\r\n",
        "CPUCreditBalance_RRB_Target1 = CPUCreditBalance_RRB_Target1.interpolate(method='linear')\r\n",
        "\r\n",
        "\r\n",
        "CPUCreditBalance_RRB_Target2 = CPUCreditBalance_RRB.loc[CPUCreditBalance_RRB['Target'] == 'Target2']\r\n",
        "CPUCreditBalance_RRB_Target2 = CPUCreditBalance_RRB_Target2.resample('S').sum()\r\n",
        "CPUCreditBalance_RRB_Target2['Maximum'] = CPUCreditBalance_RRB_Target2['Maximum'].replace(0.0, np.NaN)\r\n",
        "CPUCreditBalance_RRB_Target2 = CPUCreditBalance_RRB_Target2.interpolate(method='linear')\r\n",
        "\r\n",
        "CPUCreditBalance_RRB_Target3 = CPUCreditBalance_RRB.loc[CPUCreditBalance_RRB['Target'] == 'Target3']\r\n",
        "CPUCreditBalance_RRB_Target3 = CPUCreditBalance_RRB_Target3.resample('S').sum()\r\n",
        "CPUCreditBalance_RRB_Target3['Maximum'] = CPUCreditBalance_RRB_Target3['Maximum'].replace(0.0, np.NaN)\r\n",
        "CPUCreditBalance_RRB_Target3 = CPUCreditBalance_RRB_Target3.interpolate(method='linear')"
      ],
      "execution_count": 41,
      "outputs": []
    },
    {
      "cell_type": "code",
      "metadata": {
        "id": "R2MXFFUlskgx"
      },
      "source": [
        "\r\n",
        "### Upsampling Memory used , CPU Utilization , CPU Credit Balance for individual targets for Round Robin Algorithm results\r\n",
        "\r\n",
        "MemoryUsedLOS_Target1 = MemoryUsedLOS.loc[MemoryUsedLOS['Target'] == 'Target1']\r\n",
        "MemoryUsedLOS_Target1 = MemoryUsedLOS_Target1.resample('S').sum()\r\n",
        "MemoryUsedLOS_Target1['Maximum'] = MemoryUsedLOS_Target1['Maximum'].replace(0.0, np.NaN)\r\n",
        "MemoryUsedLOS_Target1 = MemoryUsedLOS_Target1.interpolate(method='linear')\r\n",
        "\r\n",
        "MemoryUsedLOS_Target2 = MemoryUsedLOS.loc[MemoryUsedLOS['Target'] == 'Target2']\r\n",
        "MemoryUsedLOS_Target2 = MemoryUsedLOS_Target2.resample('S').sum()\r\n",
        "MemoryUsedLOS_Target2['Maximum'] = MemoryUsedLOS_Target2['Maximum'].replace(0.0, np.NaN)\r\n",
        "MemoryUsedLOS_Target2 = MemoryUsedLOS_Target2.interpolate(method='linear')\r\n",
        "\r\n",
        "MemoryUsedLOS_Target3 = MemoryUsedLOS.loc[MemoryUsedLOS['Target'] == 'Target3']\r\n",
        "MemoryUsedLOS_Target3 = MemoryUsedLOS_Target3.resample('S').sum()\r\n",
        "MemoryUsedLOS_Target3['Maximum'] = MemoryUsedLOS_Target3['Maximum'].replace(0.0, np.NaN)\r\n",
        "MemoryUsedLOS_Target3 = MemoryUsedLOS_Target3.interpolate(method='linear')\r\n",
        "\r\n",
        "CPUUtilization_LOS_Target1 = CPUUtilization_LOS.loc[CPUUtilization_LOS['Target'] == 'Target1']\r\n",
        "CPUUtilization_LOS_Target1 = CPUUtilization_LOS_Target1.resample('S').sum()\r\n",
        "CPUUtilization_LOS_Target1['Maximum'] = CPUUtilization_LOS_Target1['Maximum'].replace(0.0, np.NaN)\r\n",
        "CPUUtilization_LOS_Target1 = CPUUtilization_LOS_Target1.interpolate(method='linear')\r\n",
        "\r\n",
        "CPUUtilization_LOS_Target2 = CPUUtilization_LOS.loc[CPUUtilization_LOS['Target'] == 'Target2']\r\n",
        "CPUUtilization_LOS_Target2 = CPUUtilization_LOS_Target2.resample('S').sum()\r\n",
        "CPUUtilization_LOS_Target2['Maximum'] = CPUUtilization_LOS_Target2['Maximum'].replace(0.0, np.NaN)\r\n",
        "CPUUtilization_LOS_Target2 = CPUUtilization_LOS_Target2.interpolate(method='linear')\r\n",
        "\r\n",
        "CPUUtilization_LOS_Target3 = CPUUtilization_LOS.loc[CPUUtilization_LOS['Target'] == 'Target3']\r\n",
        "CPUUtilization_LOS_Target3 = CPUUtilization_LOS_Target3.resample('S').sum()\r\n",
        "CPUUtilization_LOS_Target3['Maximum'] = CPUUtilization_LOS_Target3['Maximum'].replace(0.0, np.NaN)\r\n",
        "CPUUtilization_LOS_Target3 = CPUUtilization_LOS_Target3.interpolate(method='linear')\r\n",
        "\r\n",
        "CPUCreditBalance_LOS_Target1 = CPUCreditBalance_LOS.loc[CPUCreditBalance_LOS['Target'] == 'Target1']\r\n",
        "CPUCreditBalance_LOS_Target1 = CPUCreditBalance_LOS_Target1.resample('S').sum()\r\n",
        "CPUCreditBalance_LOS_Target1['Maximum'] = CPUCreditBalance_LOS_Target1['Maximum'].replace(0.0, np.NaN)\r\n",
        "CPUCreditBalance_LOS_Target1 = CPUCreditBalance_LOS_Target1.interpolate(method='linear')\r\n",
        "\r\n",
        "\r\n",
        "CPUCreditBalance_LOS_Target2 = CPUCreditBalance_LOS.loc[CPUCreditBalance_LOS['Target'] == 'Target2']\r\n",
        "CPUCreditBalance_LOS_Target2 = CPUCreditBalance_LOS_Target2.resample('S').sum()\r\n",
        "CPUCreditBalance_LOS_Target2['Maximum'] = CPUCreditBalance_LOS_Target2['Maximum'].replace(0.0, np.NaN)\r\n",
        "CPUCreditBalance_LOS_Target2 = CPUCreditBalance_LOS_Target2.interpolate(method='linear')\r\n",
        "\r\n",
        "CPUCreditBalance_LOS_Target3 = CPUCreditBalance_LOS.loc[CPUCreditBalance_LOS['Target'] == 'Target3']\r\n",
        "CPUCreditBalance_LOS_Target3 = CPUCreditBalance_LOS_Target3.resample('S').sum()\r\n",
        "CPUCreditBalance_LOS_Target3['Maximum'] = CPUCreditBalance_LOS_Target3['Maximum'].replace(0.0, np.NaN)\r\n",
        "CPUCreditBalance_LOS_Target3 = CPUCreditBalance_LOS_Target3.interpolate(method='linear')"
      ],
      "execution_count": 229,
      "outputs": []
    },
    {
      "cell_type": "code",
      "metadata": {
        "id": "KgdBC4sSbfVm"
      },
      "source": [
        "## Join datasets based on time series index\r\n",
        "\r\n",
        "Targets_RRB =  MemoryUsedRRB_Target1.join(MemoryUsedRRB_Target2, how='outer', lsuffix='_Target1_Memory_Used', \r\n",
        "                                          rsuffix='_Target2_Memory_Used').join(MemoryUsedRRB_Target3, how='outer').join(CPUUtilization_RRB_Target1, how='outer', lsuffix='_Target3_Memory_Used',\r\n",
        "                                                        rsuffix='_Target1_CPU_Utilization').join(CPUUtilization_RRB_Target2, how='outer').join(CPUUtilization_RRB_Target3 , how='outer', lsuffix = '_Target2_CPU_Utilization', \r\n",
        "                                                                  rsuffix= '_Target3_CPU_Utilization')"
      ],
      "execution_count": 230,
      "outputs": []
    },
    {
      "cell_type": "code",
      "metadata": {
        "id": "--Up1SaNsHHS"
      },
      "source": [
        "## Join datasets based on time series index\r\n",
        "\r\n",
        "Targets_LOS =  MemoryUsedLOS_Target1.join(MemoryUsedLOS_Target2, how='outer', lsuffix='_Target1_Memory_Used', \r\n",
        "                                          rsuffix='_Target2_Memory_Used').join(MemoryUsedLOS_Target3, how='outer').join(CPUUtilization_LOS_Target1, how='outer', lsuffix='_Target3_Memory_Used',\r\n",
        "                                                        rsuffix='_Target1_CPU_Utilization').join(CPUUtilization_LOS_Target2, how='outer').join(CPUUtilization_LOS_Target3 , how='outer', lsuffix = '_Target2_CPU_Utilization', \r\n",
        "                                                                  rsuffix= '_Target3_CPU_Utilization')"
      ],
      "execution_count": 231,
      "outputs": []
    },
    {
      "cell_type": "code",
      "metadata": {
        "id": "qnbafi24cO9I"
      },
      "source": [
        "RRB = Targets_RRB.join(ELB_RRB[['WorkLoad_Type']], how='outer')"
      ],
      "execution_count": 43,
      "outputs": []
    },
    {
      "cell_type": "code",
      "metadata": {
        "colab": {
          "base_uri": "https://localhost:8080/"
        },
        "id": "eq9phXbcb6Af",
        "outputId": "3c0ae26f-4277-4b32-b4ca-8d52ebe4b5fb"
      },
      "source": [
        "## Fetch only a subset from the larger dataset\r\n",
        "\r\n",
        "\r\n",
        "mask = (RRB.index > '2021-01-18 17:27:00') & (RRB.index <= '2021-01-18 18:15:00')\r\n",
        "print(mask)\r\n",
        "RRB = RRB.loc[mask]"
      ],
      "execution_count": 44,
      "outputs": [
        {
          "output_type": "stream",
          "text": [
            "[False False False ... False False False]\n"
          ],
          "name": "stdout"
        }
      ]
    },
    {
      "cell_type": "code",
      "metadata": {
        "id": "N7woauRJdg04"
      },
      "source": [
        "RRB = RRB[RRB['WorkLoad_Type'].notna()]"
      ],
      "execution_count": 45,
      "outputs": []
    },
    {
      "cell_type": "code",
      "metadata": {
        "colab": {
          "base_uri": "https://localhost:8080/"
        },
        "id": "9TbH6IAYcH6h",
        "outputId": "a9bd996f-9edd-4091-9556-77d875352d70"
      },
      "source": [
        "## Label Encoding Workload type\r\n",
        "from sklearn.preprocessing import LabelEncoder \r\n",
        "  \r\n",
        "le = LabelEncoder() \r\n",
        "RRB['WorkLoad_Type'].unique()\r\n",
        "\r\n",
        "RRB['WorkLoad_Type']= le.fit_transform(RRB['WorkLoad_Type'])\r\n",
        "print(le.classes_) "
      ],
      "execution_count": 46,
      "outputs": [
        {
          "output_type": "stream",
          "text": [
            "['calculate' 'consume' 'sleep']\n"
          ],
          "name": "stdout"
        }
      ]
    },
    {
      "cell_type": "code",
      "metadata": {
        "id": "oBcyHKG2dA7E"
      },
      "source": [
        "### Observation Space\r\n",
        "\r\n",
        "timestepsRRB = RRB.to_numpy()"
      ],
      "execution_count": 47,
      "outputs": []
    },
    {
      "cell_type": "code",
      "metadata": {
        "id": "hh0TzasRdx8C"
      },
      "source": [
        "### Reference Memory and CPU Consumption from Round-robin algorithm\r\n",
        "MemoryDelta = (0.437761 + 0.459785 + 0.422949)/3\r\n",
        "CPUDelta = (3.430449 + 2.636848 + 1.699964)/3"
      ],
      "execution_count": 48,
      "outputs": []
    },
    {
      "cell_type": "markdown",
      "metadata": {
        "id": "lrBlk7F2ePtF"
      },
      "source": [
        "## Reinforcement Learning Approach"
      ]
    },
    {
      "cell_type": "markdown",
      "metadata": {
        "id": "D8iJ6pPxeydy"
      },
      "source": [
        "Python based Environment for Reinforcement learning "
      ]
    },
    {
      "cell_type": "code",
      "metadata": {
        "id": "hxFgcfEKfI5B"
      },
      "source": [
        "class AWSELBEnv(py_environment.PyEnvironment):\r\n",
        "\r\n",
        "    def __init__(self):\r\n",
        "        self._action_spec = array_spec.BoundedArraySpec(\r\n",
        "            shape=(), dtype=np.int32, minimum=0, maximum=2, name='action')\r\n",
        "        self._observation_spec = array_spec.BoundedArraySpec(\r\n",
        "            shape=(7,), dtype=np.float64,  minimum=np.array([0, 0, 0, 0, 0, 0, 0]), name='observation')\r\n",
        "        self._state=np.array([20, 20, 20, 10, 10, 10, 0]) #represent the (current state, workload type) \r\n",
        "        self._episode_ended = False\r\n",
        "        self.targets=['172.31.44.201', '172.31.42.62', '172.31.9.156']\r\n",
        "        timeRRB = timestepsRRB\r\n",
        "\r\n",
        "        \r\n",
        "      \r\n",
        "    def _reset(self):\r\n",
        "        randState = random.randint(0,13000)\r\n",
        "        self._state=timestepsRRB[randState,:]\r\n",
        "        self._episode_ended = False\r\n",
        "        return ts.restart(np.array(self._state, dtype=np.float64))\r\n",
        "      \r\n",
        "    def action_spec(self):\r\n",
        "        return self._action_spec\r\n",
        "\r\n",
        "    def observation_spec(self):\r\n",
        "        return self._observation_spec      \r\n",
        "    \r\n",
        "       \r\n",
        "    def _step(self, action):\r\n",
        "        if self._episode_ended:\r\n",
        "            return self.reset()\r\n",
        "        if action == 0:                      \r\n",
        "            #if ((self._state[0]+ 1*MemoryDelta) < self._state[1]) and ((self._state[0]+ 1*MemoryDelta) < self._state[2]) and ((self._state[3]+ 1*CPUDelta) < self._state[4]) and ((self._state[3]+ 1*CPUDelta) < self._state[5]):\r\n",
        "            if ((self._state[0]) < self._state[1]) and ((self._state[0]) < self._state[2]) and ((self._state[3]) < self._state[4]) and ((self._state[3]) < self._state[5]):\r\n",
        "                reward = 1\r\n",
        "            else:\r\n",
        "                reward = 0\r\n",
        "            self._episode_ended = True\r\n",
        "        elif action == 1:            \r\n",
        "            #if ((self._state[1]+ 1*MemoryDelta) < self._state[0]) and ((self._state[1]+ 1*MemoryDelta) < self._state[2]) and ((self._state[4]+ 1*CPUDelta) < self._state[3]) and ((self._state[4]+ 1*CPUDelta) < self._state[5]):\r\n",
        "            if ((self._state[1]) < self._state[0]) and ((self._state[1]) < self._state[2]) and ((self._state[4]) < self._state[3]) and ((self._state[4]) < self._state[5]):\r\n",
        "                reward = 1\r\n",
        "            else:\r\n",
        "                reward = 0\r\n",
        "            self._episode_ended = True          \r\n",
        "        else:            \r\n",
        "            #if ((self._state[2]+ 1*MemoryDelta) < self._state[1]) and ((self._state[2]+ 1*MemoryDelta) < self._state[0]) and ((self._state[5]+ 1*CPUDelta) < self._state[4]) and ((self._state[5]+ 1*CPUDelta) < self._state[3]):\r\n",
        "            if ((self._state[2]) < self._state[1]) and ((self._state[2]) < self._state[0]) and ((self._state[5]) < self._state[4]) and ((self._state[5]) < self._state[3]):\r\n",
        "                reward = 1\r\n",
        "            else:\r\n",
        "                reward = 0\r\n",
        "            self._episode_ended = True\r\n",
        "        if self._episode_ended:\r\n",
        "            return ts.termination(self._state, reward)\r\n",
        "        \r\n",
        "   \r\n",
        "    "
      ],
      "execution_count": 120,
      "outputs": []
    },
    {
      "cell_type": "code",
      "metadata": {
        "id": "3NcB4bhpfS2F"
      },
      "source": [
        "# Training and Evaluatio environment creation \r\n",
        "train_py_env = AWSELBEnv()\r\n",
        "eval_py_env = AWSELBEnv()"
      ],
      "execution_count": 121,
      "outputs": []
    },
    {
      "cell_type": "code",
      "metadata": {
        "id": "JYI6WwCRfe0J"
      },
      "source": [
        "# Converting python environment with tensorflow environment\r\n",
        "\r\n",
        "train_env = tf_py_environment.TFPyEnvironment(train_py_env)\r\n",
        "eval_env = tf_py_environment.TFPyEnvironment(eval_py_env)\r\n"
      ],
      "execution_count": 122,
      "outputs": []
    },
    {
      "cell_type": "code",
      "metadata": {
        "id": "aY5f1mEDgVpM"
      },
      "source": [
        "## Setting Hyperparameters\r\n",
        "\r\n",
        "num_iterations = 8500 # @param {type:\"integer\"}\r\n",
        "\r\n",
        "initial_collect_steps = 100  # @param {type:\"integer\"} \r\n",
        "collect_steps_per_iteration = 1  # @param {type:\"integer\"}\r\n",
        "replay_buffer_max_length = 100000  # @param {type:\"integer\"}\r\n",
        "\r\n",
        "batch_size = 64  # @param {type:\"integer\"}\r\n",
        "learning_rate = 1e-3  # @param {type:\"number\"}\r\n",
        "log_interval = 200  # @param {type:\"integer\"}\r\n",
        "\r\n",
        "num_eval_episodes = 10  # @param {type:\"integer\"}\r\n",
        "eval_interval =   2000# @param {type:\"integer\"}"
      ],
      "execution_count": 210,
      "outputs": []
    },
    {
      "cell_type": "code",
      "metadata": {
        "id": "NXl_30CWfuag"
      },
      "source": [
        "## Defining Q-Network\r\n",
        "\r\n",
        "fc_layer_params = (400,)\r\n",
        "\r\n",
        "q_net = q_network.QNetwork(\r\n",
        "    train_env.observation_spec(),\r\n",
        "    train_env.action_spec(),\r\n",
        "    fc_layer_params=fc_layer_params)"
      ],
      "execution_count": 181,
      "outputs": []
    },
    {
      "cell_type": "code",
      "metadata": {
        "id": "QMMs6NsCf-1m"
      },
      "source": [
        "## Initializing optimizer for DQN Agent\r\n",
        "\r\n",
        "optimizer = tf.compat.v1.train.AdamOptimizer(learning_rate=learning_rate)"
      ],
      "execution_count": 182,
      "outputs": []
    },
    {
      "cell_type": "code",
      "metadata": {
        "id": "Pa6DbvungJqQ"
      },
      "source": [
        "## setting training step counter\r\n",
        "\r\n",
        "train_step_counter = tf.Variable(0)"
      ],
      "execution_count": 183,
      "outputs": []
    },
    {
      "cell_type": "code",
      "metadata": {
        "id": "WRicjqbngkdI"
      },
      "source": [
        "## Instantiating DQN Agent\r\n",
        "agent = dqn_agent.DqnAgent(\r\n",
        "    train_env.time_step_spec(),\r\n",
        "    train_env.action_spec(),\r\n",
        "    q_network=q_net,\r\n",
        "    optimizer=optimizer,\r\n",
        "    td_errors_loss_fn=common.element_wise_squared_loss,\r\n",
        "    train_step_counter=train_step_counter)"
      ],
      "execution_count": 184,
      "outputs": []
    },
    {
      "cell_type": "code",
      "metadata": {
        "id": "KweAZcfjg1fJ"
      },
      "source": [
        "## Declaring Evaluation and Collection policy\r\n",
        "\r\n",
        "eval_policy = agent.policy\r\n",
        "collect_policy = agent.collect_policy"
      ],
      "execution_count": 185,
      "outputs": []
    },
    {
      "cell_type": "code",
      "metadata": {
        "id": "OqPP0P2ShAut"
      },
      "source": [
        "## Random Policy Generator\r\n",
        "\r\n",
        "random_policy = random_tf_policy.RandomTFPolicy(train_env.time_step_spec(),\r\n",
        "                                                train_env.action_spec())"
      ],
      "execution_count": 186,
      "outputs": []
    },
    {
      "cell_type": "code",
      "metadata": {
        "id": "755eAVcvhHfV"
      },
      "source": [
        "## Calculate Reward for selected policy \r\n",
        "\r\n",
        "def compute_avg_return(environment, policy, num_episodes=10):\r\n",
        "\r\n",
        "  total_return = 0.0\r\n",
        "  for _ in range(num_episodes):\r\n",
        "\r\n",
        "    time_step = environment.reset()\r\n",
        "    episode_return = 0.0\r\n",
        "\r\n",
        "    while not time_step.is_last():\r\n",
        "      action_step = policy.action(time_step)\r\n",
        "      time_step = environment.step(action_step.action)\r\n",
        "      episode_return += time_step.reward\r\n",
        "      \r\n",
        "    total_return += episode_return\r\n",
        "\r\n",
        "  avg_return = total_return / num_episodes\r\n",
        "  return avg_return.numpy()[0]"
      ],
      "execution_count": 187,
      "outputs": []
    },
    {
      "cell_type": "code",
      "metadata": {
        "colab": {
          "base_uri": "https://localhost:8080/"
        },
        "id": "BaS7RdEmhdn6",
        "outputId": "7da7f074-9748-4ab8-97b1-92405160a95e"
      },
      "source": [
        "compute_avg_return(eval_env, random_policy, num_eval_episodes)"
      ],
      "execution_count": 188,
      "outputs": [
        {
          "output_type": "execute_result",
          "data": {
            "text/plain": [
              "0.11"
            ]
          },
          "metadata": {
            "tags": []
          },
          "execution_count": 188
        }
      ]
    },
    {
      "cell_type": "code",
      "metadata": {
        "id": "MPuM1ckThgIZ"
      },
      "source": [
        "## Set up Replay Buffer to store the experience\r\n",
        "\r\n",
        "replay_buffer = tf_uniform_replay_buffer.TFUniformReplayBuffer(\r\n",
        "    data_spec=agent.collect_data_spec,\r\n",
        "    batch_size=train_env.batch_size,\r\n",
        "    max_length=replay_buffer_max_length)"
      ],
      "execution_count": 189,
      "outputs": []
    },
    {
      "cell_type": "code",
      "metadata": {
        "id": "IKgrWf4coRQh"
      },
      "source": [
        "## Collect data and store it as trajectory for agent's neural network training\r\n",
        "\r\n",
        "def collect_step(environment, policy, buffer):\r\n",
        "  time_step = environment.current_time_step()\r\n",
        "  action_step = policy.action(train_env.current_time_step())\r\n",
        "  next_time_step = environment.step(action_step.action)\r\n",
        "  traj = trajectory.from_transition(time_step, action_step, next_time_step)\r\n",
        "\r\n",
        "  # Add trajectory to the replay buffer\r\n",
        "  buffer.add_batch(traj)\r\n",
        "\r\n",
        "def collect_data(env, policy, buffer, steps):\r\n",
        "  for _ in range(steps):\r\n",
        "    collect_step(env, policy, buffer)\r\n",
        "\r\n",
        "collect_data(train_env, random_policy, replay_buffer, initial_collect_steps)"
      ],
      "execution_count": 190,
      "outputs": []
    },
    {
      "cell_type": "code",
      "metadata": {
        "colab": {
          "base_uri": "https://localhost:8080/"
        },
        "id": "ZREIXVUdoX1v",
        "outputId": "6dfd2ad6-5806-4bb7-e4c1-5c49d3c4de3c"
      },
      "source": [
        "dataset = replay_buffer.as_dataset(\r\n",
        "    num_parallel_calls=3, \r\n",
        "    sample_batch_size=batch_size, \r\n",
        "    num_steps=2).prefetch(3)\r\n",
        "\r\n",
        "\r\n",
        "dataset"
      ],
      "execution_count": 191,
      "outputs": [
        {
          "output_type": "execute_result",
          "data": {
            "text/plain": [
              "<PrefetchDataset shapes: (Trajectory(step_type=(64, 2), observation=(64, 2, 7), action=(64, 2), policy_info=(), next_step_type=(64, 2), reward=(64, 2), discount=(64, 2)), BufferInfo(ids=(64, 2), probabilities=(64,))), types: (Trajectory(step_type=tf.int32, observation=tf.float64, action=tf.int32, policy_info=(), next_step_type=tf.int32, reward=tf.float32, discount=tf.float32), BufferInfo(ids=tf.int64, probabilities=tf.float32))>"
            ]
          },
          "metadata": {
            "tags": []
          },
          "execution_count": 191
        }
      ]
    },
    {
      "cell_type": "code",
      "metadata": {
        "colab": {
          "base_uri": "https://localhost:8080/"
        },
        "id": "hhoysWHNor_8",
        "outputId": "aae68324-56b3-4218-b237-c5c98ac4edd5"
      },
      "source": [
        "try:\r\n",
        "  %%time\r\n",
        "except:\r\n",
        "  pass\r\n",
        "\r\n",
        "# (Optional) Optimize by wrapping some of the code in a graph using TF function.\r\n",
        "agent.train = common.function(agent.train)\r\n",
        "\r\n",
        "# Reset the train step\r\n",
        "agent.train_step_counter.assign(0)\r\n",
        "\r\n",
        "# Evaluate the agent's policy once before training.\r\n",
        "avg_return = compute_avg_return(eval_env, agent.policy, num_eval_episodes)\r\n",
        "returns = [avg_return]\r\n",
        "\r\n",
        "for _ in range(num_iterations):\r\n",
        "\r\n",
        "  # Collect a few steps using collect_policy and save to the replay buffer.\r\n",
        "  \r\n",
        "  collect_data(train_env, agent.collect_policy, replay_buffer, collect_steps_per_iteration)\r\n",
        "\r\n",
        "  # Sample a batch of data from the buffer and update the agent's network.\r\n",
        "  experience, unused_info = next(iterator)\r\n",
        "  #print(experience)\r\n",
        "  train_loss = agent.train(experience).loss\r\n",
        "\r\n",
        "  step = agent.train_step_counter.numpy()\r\n",
        "\r\n",
        "  #if step % log_interval == 0:\r\n",
        "    #print('loss = {0}'.format(train_loss))\r\n",
        "\r\n",
        "  if step % eval_interval == 0:\r\n",
        "    avg_return = compute_avg_return(eval_env, agent.policy, num_eval_episodes)\r\n",
        "    print('Return = {0}'.format(avg_return))\r\n",
        "    returns.append(avg_return)"
      ],
      "execution_count": 211,
      "outputs": [
        {
          "output_type": "stream",
          "text": [
            "CPU times: user 4 µs, sys: 1e+03 ns, total: 5 µs\n",
            "Wall time: 8.58 µs\n",
            "Return = 0.30000001192092896\n",
            "Return = 0.5\n",
            "Return = 0.5\n",
            "Return = 0.6000000238418579\n"
          ],
          "name": "stdout"
        }
      ]
    },
    {
      "cell_type": "markdown",
      "metadata": {
        "id": "oFYtAGBIhp2V"
      },
      "source": [
        "## RL Results and comparision"
      ]
    },
    {
      "cell_type": "markdown",
      "metadata": {
        "id": "g3YHTtTGh7Eo"
      },
      "source": [
        "Average rewards received during the training process"
      ]
    },
    {
      "cell_type": "code",
      "metadata": {
        "colab": {
          "base_uri": "https://localhost:8080/",
          "height": 333
        },
        "id": "XsDQOaxfM8QZ",
        "outputId": "38a3b4d9-c98b-4c83-927c-0a0b63165858"
      },
      "source": [
        "iterations = range(0, num_iterations + 1, eval_interval)\r\n",
        "plt.plot(iterations, returns)\r\n",
        "print(returns)\r\n",
        "print(iterations)\r\n",
        "plt.ylabel('Average Return')\r\n",
        "plt.xlabel('Iterations')\r\n",
        "plt.ylim(top=0.8)"
      ],
      "execution_count": 213,
      "outputs": [
        {
          "output_type": "stream",
          "text": [
            "[0.5, 0.3, 0.5, 0.5, 0.6]\n",
            "range(0, 8501, 2000)\n"
          ],
          "name": "stdout"
        },
        {
          "output_type": "execute_result",
          "data": {
            "text/plain": [
              "(0.2850000113248825, 0.8)"
            ]
          },
          "metadata": {
            "tags": []
          },
          "execution_count": 213
        },
        {
          "output_type": "display_data",
          "data": {
            "image/png": "[encoded data removed]",
            "text/plain": [
              "<Figure size 432x288 with 1 Axes>"
            ]
          },
          "metadata": {
            "tags": []
          }
        }
      ]
    },
    {
      "cell_type": "markdown",
      "metadata": {
        "id": "_xye2mWzvvE5"
      },
      "source": [
        "Applying rewards process to the data generated from Round robin algorithm for comparision against RL rewards"
      ]
    },
    {
      "cell_type": "code",
      "metadata": {
        "id": "nFUwMPtLkDsd"
      },
      "source": [
        "## Setting up dataframe for reward calculation in RRB\r\n",
        "\r\n",
        "\r\n",
        "RRB_vs_RL = Targets_RRB.join(ELB_RRB[['WorkLoad_Type', 'Target']], how='outer')\r\n",
        "## Fetch only a subset from the larger dataset\r\n",
        "mask = (RRB_vs_RL.index > '2021-01-18 17:27:00') & (RRB_vs_RL.index <= '2021-01-18 18:15:00')\r\n",
        "RRB_vs_RL = RRB_vs_RL.loc[mask]\r\n",
        "\r\n",
        "RRB_vs_RL = RRB_vs_RL[RRB_vs_RL['WorkLoad_Type'].notna()]\r\n",
        "\r\n",
        "\r\n"
      ],
      "execution_count": 219,
      "outputs": []
    },
    {
      "cell_type": "code",
      "metadata": {
        "id": "dgPXOQb2oAaI"
      },
      "source": [
        "## Calculate Reward Function \r\n",
        "\r\n",
        "def calculateRewards(Maximum_Target1_Memory_Used, Maximum_Target2_Memory_Used, Maximum_Target3_Memory_Used, Maximum_Target1_CPU_Utilization, Maximum_Target2_CPU_Utilization, Maximum_Target3_CPU_Utilization, WorkLoad_Type,Target):\r\n",
        "  if Target == 'Target1':\r\n",
        "    if ((Maximum_Target1_Memory_Used) < Maximum_Target2_Memory_Used) and ((Maximum_Target1_Memory_Used) < Maximum_Target3_Memory_Used) and ((Maximum_Target1_CPU_Utilization) < Maximum_Target2_CPU_Utilization) and ((Maximum_Target1_CPU_Utilization) < Maximum_Target1_CPU_Utilization):\r\n",
        "      reward = 1\r\n",
        "    else:\r\n",
        "      reward = 0\r\n",
        "  elif Target == 'Target2':\r\n",
        "    if ((Maximum_Target2_Memory_Used) < Maximum_Target1_Memory_Used) and ((Maximum_Target2_Memory_Used) < Maximum_Target3_Memory_Used) and ((Maximum_Target2_CPU_Utilization) < Maximum_Target1_CPU_Utilization) and ((Maximum_Target2_CPU_Utilization) < Maximum_Target3_CPU_Utilization):\r\n",
        "      reward = 1\r\n",
        "    else:\r\n",
        "      reward = 0\r\n",
        "  elif Target == 'Target3':\r\n",
        "    if ((Maximum_Target3_Memory_Used) < Maximum_Target1_Memory_Used) and ((Maximum_Target3_Memory_Used) < Maximum_Target2_Memory_Used) and ((Maximum_Target3_CPU_Utilization) < Maximum_Target1_CPU_Utilization) and ((Maximum_Target3_CPU_Utilization) < Maximum_Target2_CPU_Utilization):\r\n",
        "      reward = 1\r\n",
        "    else:\r\n",
        "      reward = 0\r\n",
        "  return reward \r\n",
        "\r\n"
      ],
      "execution_count": 221,
      "outputs": []
    },
    {
      "cell_type": "code",
      "metadata": {
        "id": "_eq4Yd6HlvOH"
      },
      "source": [
        "RRB_vs_RL['Rewards'] =  RRB_vs_RL.apply(lambda x: calculateRewards(x.Maximum_Target1_Memory_Used, x.Maximum_Target2_Memory_Used, \r\n",
        "                                                            x.Maximum_Target3_Memory_Used, x.Maximum_Target1_CPU_Utilization, \r\n",
        "                                                            x.Maximum_Target2_CPU_Utilization, x.Maximum_Target3_CPU_Utilization, x. WorkLoad_Type,x.Target), axis=1)"
      ],
      "execution_count": 222,
      "outputs": []
    },
    {
      "cell_type": "code",
      "metadata": {
        "colab": {
          "base_uri": "https://localhost:8080/"
        },
        "id": "UI4hvHWbq9wb",
        "outputId": "6887f0d7-7648-4e31-b229-01f425b845e8"
      },
      "source": [
        "## Average Reward Score for RRB\r\n",
        "\r\n",
        "RRB_vs_RL['Rewards'].mean()"
      ],
      "execution_count": 226,
      "outputs": [
        {
          "output_type": "execute_result",
          "data": {
            "text/plain": [
              "0.0673352435530086"
            ]
          },
          "metadata": {
            "tags": []
          },
          "execution_count": 226
        }
      ]
    },
    {
      "cell_type": "code",
      "metadata": {
        "id": "n3WRXQ8trLq4"
      },
      "source": [
        "\r\n",
        "## Setting up dataframe for reward calculation in LOS\r\n",
        "LOS_vs_RL = Targets_LOS.join(ELB_LOS[['WorkLoad_Type', 'Target']], how='outer')\r\n",
        "LOS_vs_RL\r\n",
        "## Fetch only a subset from the larger dataset\r\n",
        "mask = (LOS_vs_RL.index > '2021-01-18 22:05:00') & (LOS_vs_RL.index <= '2021-01-18 22:55:00')\r\n",
        "LOS_vs_RL = LOS_vs_RL.loc[mask]\r\n",
        "\r\n",
        "LOS_vs_RL = LOS_vs_RL[LOS_vs_RL['WorkLoad_Type'].notna()]"
      ],
      "execution_count": 235,
      "outputs": []
    },
    {
      "cell_type": "code",
      "metadata": {
        "id": "i4tkdUQMr5Bt"
      },
      "source": [
        "LOS_vs_RL['Rewards'] =  LOS_vs_RL.apply(lambda x: calculateRewards(x.Maximum_Target1_Memory_Used, x.Maximum_Target2_Memory_Used, \r\n",
        "                                                            x.Maximum_Target3_Memory_Used, x.Maximum_Target1_CPU_Utilization, \r\n",
        "                                                            x.Maximum_Target2_CPU_Utilization, x.Maximum_Target3_CPU_Utilization, x. WorkLoad_Type,x.Target), axis=1)"
      ],
      "execution_count": 237,
      "outputs": []
    },
    {
      "cell_type": "code",
      "metadata": {
        "colab": {
          "base_uri": "https://localhost:8080/"
        },
        "id": "Iusd4WwotuXz",
        "outputId": "7fe7a353-0ca0-4da6-cf3c-4921db9898c5"
      },
      "source": [
        "## Average Reward Score for LOS\r\n",
        "LOS_vs_RL['Rewards'].mean()"
      ],
      "execution_count": 238,
      "outputs": [
        {
          "output_type": "execute_result",
          "data": {
            "text/plain": [
              "0.12039187227866473"
            ]
          },
          "metadata": {
            "tags": []
          },
          "execution_count": 238
        }
      ]
    },
    {
      "cell_type": "markdown",
      "metadata": {
        "id": "krTmWJksy2Dp"
      },
      "source": [
        "Result 3:\r\n",
        "\r\n",
        "\r\n",
        "\r\n",
        "1.   Average Rewards - Reinforcement Learning : 0.60\r\n",
        "2.   Average Rewards - Round-robin Algorithm  : 0.067\r\n",
        "3.   Average Rewards - Least Outstanding Requests Algorithm  : 0.120\r\n",
        "\r\n",
        "**Conclusion:-  Reinforcement Learning agent is performing best by large margin in effiectively utilizing the virtual machines resources.**\r\n",
        "\r\n"
      ]
    },
    {
      "cell_type": "code",
      "metadata": {
        "id": "tFeZrCfNvesE"
      },
      "source": [
        ""
      ],
      "execution_count": null,
      "outputs": []
    }
  ]
}